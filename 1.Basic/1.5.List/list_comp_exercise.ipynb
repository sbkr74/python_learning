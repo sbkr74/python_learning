{
 "cells": [
  {
   "cell_type": "markdown",
   "metadata": {},
   "source": [
    "### Exercise\n",
    "1. Filter only negative and zero in the list using list comprehension\n",
    "   ```py\n",
    "   numbers = [-4, -3, -2, -1, 0, 2, 4, 6]\n",
    "   ```"
   ]
  },
  {
   "cell_type": "code",
   "execution_count": 1,
   "metadata": {},
   "outputs": [
    {
     "name": "stdout",
     "output_type": "stream",
     "text": [
      "[-4, -3, -2, -1, 0]\n"
     ]
    }
   ],
   "source": [
    "numbers = [-4, -3, -2, -1, 0, 2, 4, 6]\n",
    "negs = [x for x in numbers if x<=0]\n",
    "print(negs)"
   ]
  },
  {
   "cell_type": "markdown",
   "metadata": {},
   "source": [
    "2. Flatten the following list of lists of lists to a one dimensional list :\n",
    "\n",
    "   ```py\n",
    "   list_of_lists =[[[1, 2, 3]], [[4, 5, 6]], [[7, 8, 9]]]\n",
    "\n",
    "   output\n",
    "   [1, 2, 3, 4, 5, 6, 7, 8, 9]\n",
    "   ```"
   ]
  },
  {
   "cell_type": "code",
   "execution_count": 5,
   "metadata": {},
   "outputs": [
    {
     "name": "stdout",
     "output_type": "stream",
     "text": [
      "[1, 2, 3, 4, 5, 6, 7, 8, 9]\n"
     ]
    }
   ],
   "source": [
    "list_of_lists =[[[1, 2, 3]], [[4, 5, 6]], [[7, 8, 9]]]\n",
    "\n",
    "oneDList = [num for row in list_of_lists for nxtRow in row for num in nxtRow]\n",
    "print(oneDList)"
   ]
  },
  {
   "cell_type": "markdown",
   "metadata": {},
   "source": [
    "3. Using list comprehension create the following list of tuples:\n",
    "   ```py\n",
    "   [(0, 1, 0, 0, 0, 0, 0),\n",
    "   (1, 1, 1, 1, 1, 1, 1),\n",
    "   (2, 1, 2, 4, 8, 16, 32),\n",
    "   (3, 1, 3, 9, 27, 81, 243),\n",
    "   (4, 1, 4, 16, 64, 256, 1024),\n",
    "   (5, 1, 5, 25, 125, 625, 3125),\n",
    "   (6, 1, 6, 36, 216, 1296, 7776),\n",
    "   (7, 1, 7, 49, 343, 2401, 16807),\n",
    "   (8, 1, 8, 64, 512, 4096, 32768),\n",
    "   (9, 1, 9, 81, 729, 6561, 59049),\n",
    "   (10, 1, 10, 100, 1000, 10000, 100000)]\n",
    "   ```"
   ]
  },
  {
   "cell_type": "code",
   "execution_count": 11,
   "metadata": {},
   "outputs": [
    {
     "name": "stdout",
     "output_type": "stream",
     "text": [
      "[(0, 1, 0, 0, 0, 0, 0), (1, 1, 1, 1, 1, 1, 1), (2, 1, 2, 4, 8, 16, 32), (3, 1, 3, 9, 27, 81, 243), (4, 1, 4, 16, 64, 256, 1024), (5, 1, 5, 25, 125, 625, 3125), (6, 1, 6, 36, 216, 1296, 7776), (7, 1, 7, 49, 343, 2401, 16807), (8, 1, 8, 64, 512, 4096, 32768), (9, 1, 9, 81, 729, 6561, 59049), (10, 1, 10, 100, 1000, 10000, 100000)]\n"
     ]
    }
   ],
   "source": [
    "list_of_tuple = [(x,1,x,x**2,x**3,x**4,x**5) for x in range(11)]\n",
    "\n",
    "print(list_of_tuple)"
   ]
  },
  {
   "cell_type": "markdown",
   "metadata": {},
   "source": [
    "4. Flatten the following list to a new list:\n",
    "   ```py\n",
    "   countries = [[('Finland', 'Helsinki')], [('Sweden', 'Stockholm')], [('Norway', 'Oslo')]]\n",
    "   output:\n",
    "   [['FINLAND','FIN', 'HELSINKI'], ['SWEDEN', 'SWE', 'STOCKHOLM'], ['NORWAY', 'NOR', 'OSLO']]\n",
    "   ```"
   ]
  },
  {
   "cell_type": "code",
   "execution_count": 18,
   "metadata": {},
   "outputs": [
    {
     "name": "stdout",
     "output_type": "stream",
     "text": [
      "[['FINLAND', 'FIN', 'HELSINKI'], ['SWEDEN', 'SWE', 'STOCKHOLM'], ['NORWAY', 'NOR', 'OSLO']]\n"
     ]
    }
   ],
   "source": [
    "countries = [[('Finland', 'Helsinki')], [('Sweden', 'Stockholm')], [('Norway', 'Oslo')]]\n",
    "cont = [[con.upper(),con[0:3].upper(),y[1].upper()] for x in countries for y in x for con in y]\n",
    "conts=[cont[i] for i in range(len(cont)) if i%2==0]\n",
    "print(conts)"
   ]
  },
  {
   "cell_type": "markdown",
   "metadata": {},
   "source": [
    "5. Change the following list to a list of dictionaries:\n",
    "   ```py\n",
    "   countries = [[('Finland', 'Helsinki')], [('Sweden', 'Stockholm')], [('Norway', 'Oslo')]]\n",
    "   output:\n",
    "   [{'country': 'FINLAND', 'city': 'HELSINKI'},\n",
    "   {'country': 'SWEDEN', 'city': 'STOCKHOLM'},\n",
    "   {'country': 'NORWAY', 'city': 'OSLO'}]\n",
    "   ```"
   ]
  },
  {
   "cell_type": "code",
   "execution_count": 20,
   "metadata": {},
   "outputs": [
    {
     "name": "stdout",
     "output_type": "stream",
     "text": [
      "[{'country': 'Finland', 'city': 'Helsinki'}, {'country': 'Sweden', 'city': 'Stockholm'}, {'country': 'Norway', 'city': 'Oslo'}]\n"
     ]
    }
   ],
   "source": [
    "countries = [[('Finland', 'Helsinki')], [('Sweden', 'Stockholm')], [('Norway', 'Oslo')]]\n",
    "output = [{'country': con[0],'city': con[1]} for i in countries for con in i]\n",
    "print(output)"
   ]
  },
  {
   "cell_type": "markdown",
   "metadata": {},
   "source": [
    "6. Change the following list of lists to a list of concatenated strings:\n",
    "   ```py\n",
    "   names = [[('Asabeneh', 'Yetayeh')], [('David', 'Smith')], [('Donald', 'Trump')], [('Bill', 'Gates')]]\n",
    "   output\n",
    "   ['Asabeneh Yetaeyeh', 'David Smith', 'Donald Trump', 'Bill Gates']\n",
    "   ```"
   ]
  },
  {
   "cell_type": "code",
   "execution_count": 21,
   "metadata": {},
   "outputs": [
    {
     "name": "stdout",
     "output_type": "stream",
     "text": [
      "['Asabeneh Yetayeh', 'David Smith', 'Donald Trump', 'Bill Gates']\n"
     ]
    }
   ],
   "source": [
    "names = [[('Asabeneh', 'Yetayeh')], [('David', 'Smith')], [('Donald', 'Trump')], [('Bill', 'Gates')]]\n",
    "fullname = [(name[0]+\" \"+name[1]) for x in names for name in x]\n",
    "print(fullname)"
   ]
  },
  {
   "cell_type": "markdown",
   "metadata": {},
   "source": [
    "7. Write a lambda function which can solve a slope or y-intercept of linear functions.\n"
   ]
  },
  {
   "cell_type": "markdown",
   "metadata": {},
   "source": [
    "### My Solution"
   ]
  },
  {
   "cell_type": "code",
   "execution_count": 16,
   "metadata": {},
   "outputs": [
    {
     "name": "stdout",
     "output_type": "stream",
     "text": [
      "0.67\n",
      "2.0\n"
     ]
    }
   ],
   "source": [
    "# First I need the formula or understand how to find slope of linear function\n",
    "'''\n",
    "Using General form\n",
    "Ax+By+c=0\n",
    "\n",
    "for slope(m):\n",
    "m=-A/B\n",
    "\n",
    "y-intercept(c):\n",
    "c=-C/B\n",
    "'''\n",
    "import re\n",
    "eqn = \"2x-3y+6=0\"\n",
    "num = list(map(int,re.findall(r\"-?\\d+\",eqn)))\n",
    "# A = num[0]\n",
    "# B = num[1]\n",
    "# C = num[2]\n",
    "A,B,C = num[:3]\n",
    "\n",
    "# slope\n",
    "slope = lambda a,b:-a/B\n",
    "m = slope(A,B)\n",
    "print(round(m,2))\n",
    "\n",
    "# y-intercept\n",
    "c = slope(C,B)\n",
    "print(round(c,2))"
   ]
  },
  {
   "cell_type": "markdown",
   "metadata": {},
   "source": [
    "## GPT solutions"
   ]
  },
  {
   "cell_type": "code",
   "execution_count": 4,
   "metadata": {},
   "outputs": [
    {
     "name": "stdout",
     "output_type": "stream",
     "text": [
      "Slope: 2.0\n",
      "y-intercept: 0.0\n"
     ]
    }
   ],
   "source": [
    "# Lambda function to calculate slope or y-intercept\n",
    "linear_func = lambda mode, points: (\n",
    "    (points[1][1] - points[0][1]) / (points[1][0] - points[0][0])  # Slope (m)\n",
    "    if mode == \"slope\" \n",
    "    else points[0][1] - ((points[1][1] - points[0][1]) / (points[1][0] - points[0][0])) * points[0][0]  # y-intercept (c)\n",
    ")\n",
    "\n",
    "# Example usage:\n",
    "# Slope: Pass two points, e.g., (x1, y1) and (x2, y2)\n",
    "slope = linear_func(\"slope\", [(1, 2), (3, 6)])\n",
    "print(\"Slope:\", slope)  # Output: 2.0\n",
    "\n",
    "# y-intercept: Pass the same two points\n",
    "y_intercept = linear_func(\"y-intercept\", [(1, 2), (3, 6)])\n",
    "print(\"y-intercept:\", y_intercept)  # Output: 0.0\n"
   ]
  },
  {
   "cell_type": "code",
   "execution_count": 3,
   "metadata": {},
   "outputs": [
    {
     "name": "stdout",
     "output_type": "stream",
     "text": [
      "Slope: 0.67\n",
      "y-intercept: 2.0\n"
     ]
    }
   ],
   "source": [
    "# Lambda function to calculate slope or y-intercept from the general form\n",
    "linear_func_general = lambda mode, coefficients: (\n",
    "    -coefficients[0] / coefficients[1] if mode == \"slope\"  # A / B for slope\n",
    "    else -coefficients[2] / coefficients[1]               # C / B for y-intercept\n",
    ")\n",
    "\n",
    "# Example usage:\n",
    "# General form: Ax + By + C = 0\n",
    "coefficients = [2, -3, 6]  # A=2, B=-3, C=6\n",
    "\n",
    "# Calculate slope\n",
    "slope = linear_func_general(\"slope\", coefficients)\n",
    "print(\"Slope:\", round(slope,2))  # Output: 0.666...\n",
    "\n",
    "# Calculate y-intercept\n",
    "y_intercept = linear_func_general(\"y-intercept\", coefficients)\n",
    "print(\"y-intercept:\", round(y_intercept,2))  # Output: -2.0\n"
   ]
  }
 ],
 "metadata": {
  "kernelspec": {
   "display_name": "Python 3",
   "language": "python",
   "name": "python3"
  },
  "language_info": {
   "codemirror_mode": {
    "name": "ipython",
    "version": 3
   },
   "file_extension": ".py",
   "mimetype": "text/x-python",
   "name": "python",
   "nbconvert_exporter": "python",
   "pygments_lexer": "ipython3",
   "version": "3.11.8"
  }
 },
 "nbformat": 4,
 "nbformat_minor": 2
}
