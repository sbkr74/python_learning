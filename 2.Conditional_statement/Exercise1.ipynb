{
 "cells": [
  {
   "cell_type": "markdown",
   "metadata": {
    "vscode": {
     "languageId": "raw"
    }
   },
   "source": [
    "## Exercise Level 1\n",
    "### Problem 1:\n",
    "Get user input using input(“Enter your age: ”). If user is 18 or older, give feedback: You are old enough to drive. \n",
    "If below 18 give feedback to wait for the missing amount of years.\n",
    " ```sh\n",
    "    Output:\n",
    "    Enter your age: 30\n",
    "    You are old enough to learn to drive.\n",
    "    Output:\n",
    "    Enter your age: 15\n",
    "    You need 3 more years to learn to drive.\n",
    "```"
   ]
  },
  {
   "cell_type": "code",
   "execution_count": null,
   "metadata": {},
   "outputs": [],
   "source": [
    "age = int(input(\"Enter your age: \"))\n",
    "if age >= 18:\n",
    "    print(\"You are old enough to learn to drive.\")\n",
    "else:\n",
    "    print(\"You need {} more years to learn to drive.\".format(18-age))\n"
   ]
  },
  {
   "cell_type": "markdown",
   "metadata": {},
   "source": [
    "### Problem 2.  \n",
    "Compare the values of my_age and your_age using if … else. Who is older (me or you)? Use input(“Enter your age: ”) to get the age as input. You can use a nested condition to print 'year' for 1 year difference in age, 'years' for bigger differences, and a custom text if my_age = your_age. \n",
    "```sh\n",
    "Output:\n",
    "Enter your age: 30\n",
    "You are 5 years older than me.\n",
    "```"
   ]
  },
  {
   "cell_type": "code",
   "execution_count": null,
   "metadata": {},
   "outputs": [],
   "source": [
    "my_age = 25\n",
    "your_age = int(input(\"Enter your age: \"))\n",
    "if your_age <= my_age:\n",
    "    if your_age<my_age:\n",
    "        print(\"You are {} years younger than me.\".format(my_age-your_age))\n",
    "    else:\n",
    "        print(\"we are of same age.\")\n",
    "else:\n",
    "    print(\"You are {} years older than me.\".format(your_age-my_age))"
   ]
  },
  {
   "cell_type": "markdown",
   "metadata": {},
   "source": [
    "### Problem 3.  \n",
    "Get two numbers from the user using input prompt. If a is greater than b return a is greater than b, if a is less b return a is smaller than b, else a is equal to b. \n",
    "```sh\n",
    "Output:\n",
    "Enter number one: 4\n",
    "Enter number two: 3\n",
    "4 is greater than 3\n",
    "```\n"
   ]
  },
  {
   "cell_type": "code",
   "execution_count": null,
   "metadata": {},
   "outputs": [],
   "source": [
    "a = int(input(\"Enter number one: \"))\n",
    "b = int(input(\"Enter number two: \"))\n",
    "if a>b:\n",
    "    print(a,\"is greater than\",b)\n",
    "elif a==b:\n",
    "    print(a,\"is equal to\",b)\n",
    "else:\n",
    "    print(a,\"is smaller than\",b)"
   ]
  },
  {
   "cell_type": "markdown",
   "metadata": {},
   "source": [
    "## Exercises: Level 2\n",
    "\n",
    "### Problem 1: \n",
    "Write a code which gives grade to students according to theirs scores:\n",
    "```sh\n",
    "80-100, A\n",
    "70-89, B\n",
    "60-69, C\n",
    "50-59, D\n",
    "0-49, F\n",
    "```"
   ]
  },
  {
   "cell_type": "code",
   "execution_count": null,
   "metadata": {},
   "outputs": [],
   "source": [
    "score = int(input(\"Enter Score \"))\n",
    "if score >=80 and score <=100:\n",
    "    print(\"Score:\",score,\"A\")\n",
    "elif score >= 70 and score <=79:\n",
    "    print(\"Score:\",score,\"B\")\n",
    "elif score >= 60 and score <=69:\n",
    "    print(\"Score:\",score,\"C\")\n",
    "elif score >= 50 and score <=59:\n",
    "    print(\"Score:\",score,\"D\")\n",
    "elif score >= 0 and score <=49:\n",
    "    print(\"Score:\",score,\"F\")\n",
    "else:\n",
    "    print(\"Invalid score!\")"
   ]
  },
  {
   "cell_type": "markdown",
   "metadata": {},
   "source": [
    "### Problem 2:\n",
    "Check if the season is Autumn, Winter, Spring or Summer. If the user input is:\n",
    "- September, October or November, the season is Autumn.\n",
    "- December, January or February, the season is Winter.\n",
    "- March, April or May, the season is Spring\n",
    "- June, July or August, the season is Summer"
   ]
  },
  {
   "cell_type": "code",
   "execution_count": null,
   "metadata": {},
   "outputs": [],
   "source": [
    "month = input(\"Enter month to check season: \")\n",
    "if month == 'September' or month == 'October' or month == 'November':\n",
    "    print(\"Autumn\")\n",
    "elif month == 'December' or month == 'January' or month == 'February':\n",
    "    print(\"Winter\")\n",
    "elif month == 'March' or month == 'April' or month == 'May':\n",
    "    print(\"Spring\")\n",
    "elif month == 'June' or month == 'July' or month == 'August':\n",
    "    print(\"Summer\")\n",
    "else:\n",
    "    print(\"Invalid month name or try in Capitalize case\")"
   ]
  },
  {
   "cell_type": "markdown",
   "metadata": {},
   "source": [
    "### Problem 3:  \n",
    "The following list contains some fruits:\n",
    "```sh\n",
    "fruits = ['banana','orange','mango','lemon']\n",
    "```\n",
    "- If a fruit doesn't exist in the list add the fruit to the list and print the modified list. \n",
    "- If the fruit exists print('That fruit already exist in the list')"
   ]
  },
  {
   "cell_type": "code",
   "execution_count": null,
   "metadata": {},
   "outputs": [],
   "source": [
    "fruits = ['banana', 'orange', 'mango', 'lemon']\n",
    "fruit = input(\"Enter fruit name: \")\n",
    "if fruit in fruits:\n",
    "    print(fruit,\"already exist in the list\")\n",
    "else:\n",
    "    fruits.append(fruit)\n",
    "    print(fruits)"
   ]
  },
  {
   "cell_type": "markdown",
   "metadata": {},
   "source": [
    "## Exercises: Level 3\n",
    "## Problem :\n",
    "Here we have a person dictionary. Feel free to modify it!\n",
    "   \n",
    "```py\n",
    "    person={\n",
    "    'first_name': 'Shubham',\n",
    "    'last_name': 'Biruly',\n",
    "    'age': 25,\n",
    "    'country': 'India',\n",
    "    'is_marred': False,\n",
    "    'skills': ['JavaScript', 'React', 'Node', 'MongoDB', 'Python'],\n",
    "    'address': {\n",
    "        'street': 'Dumbisai',\n",
    "        'zipcode': '833201'\n",
    "    }\n",
    "    }\n",
    "```\n",
    "\n",
    "* Check if the person dictionary has skills key, if so print out the middle skill in the skills list.\n",
    "* Check if the person dictionary has skills key, if so check if the person has 'Python' skill and print out the result.\n",
    "* If a person skills has only JavaScript and React, print('He is a front end developer'), if the person skills has Node, Python, MongoDB, print('He is a backend developer'), if the person skills has React, Node and MongoDB, Print('He is a fullstack developer'), else print('unknown title') - for more accurate results more conditions can be nested!\n",
    "* If the person is married and if he lives in India, print the information in the following format:\n",
    "\n",
    "```py\n",
    "    Shubham Biruly lives in India. He is not married.\n",
    "```"
   ]
  },
  {
   "cell_type": "code",
   "execution_count": 27,
   "metadata": {},
   "outputs": [
    {
     "name": "stdout",
     "output_type": "stream",
     "text": [
      "['JavaScript', 'React', 'Node', 'MongoDB', 'Python']\n",
      "Node is present in skills set\n",
      "['JavaScript', 'React', 'Node', 'MongoDB', 'Python']\n",
      "He is a front end developer\n",
      "Shubham Biruly lives in India. He is not married\n"
     ]
    }
   ],
   "source": [
    "person={\n",
    "    'first_name': 'Shubham',\n",
    "    'last_name': 'Biruly',\n",
    "    'age': 25,\n",
    "    'country': 'India',\n",
    "    'is_marred': False,\n",
    "    'skills': ['JavaScript', 'React', 'Node', 'MongoDB', 'Python'],\n",
    "    'address': {\n",
    "        'street': 'Dumbisai',\n",
    "        'zipcode': '833201'\n",
    "    }\n",
    "    }\n",
    "skill = input(\"Enter skill to check: \")\n",
    "if 'skills' in person:\n",
    "    print(person['skills'])\n",
    "if 'skills' in person:\n",
    "    if skill in person['skills']:\n",
    "        print(skill,\"is present in skills set\")\n",
    "        print(person['skills'])\n",
    "    else:\n",
    "        print(\"{} as skill not persent in below skill set.\".format(skill),\"\\n\",person['skills'])\n",
    "if 'JavaScript' and 'React' in person['skills']:\n",
    "    print('He is a front end developer')\n",
    "elif 'Node' and 'Python' and 'MongoDB':\n",
    "    print('He is a backend developer')\n",
    "elif 'React' and 'Node' and 'MongoDB':\n",
    "    print('He is a fullstack developer')\n",
    "else:\n",
    "    print('Unknown Title')\n",
    "if person['is_marred'] == True:\n",
    "    print(person['first_name'],person['last_name'],'lives in',person['country']+'. He is married')\n",
    "else:\n",
    "    print(person['first_name'],person['last_name'],'lives in',person['country']+'. He is not married')\n"
   ]
  }
 ],
 "metadata": {
  "kernelspec": {
   "display_name": "Python 3",
   "language": "python",
   "name": "python3"
  },
  "language_info": {
   "codemirror_mode": {
    "name": "ipython",
    "version": 3
   },
   "file_extension": ".py",
   "mimetype": "text/x-python",
   "name": "python",
   "nbconvert_exporter": "python",
   "pygments_lexer": "ipython3",
   "version": "3.11.8"
  }
 },
 "nbformat": 4,
 "nbformat_minor": 2
}
