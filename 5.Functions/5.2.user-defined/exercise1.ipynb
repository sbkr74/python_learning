{
 "cells": [
  {
   "cell_type": "markdown",
   "metadata": {},
   "source": [
    "### Exercises: Level 1\n",
    "\n",
    "1. Declare a function _add_two_numbers_. It takes two parameters and it returns a sum."
   ]
  },
  {
   "cell_type": "code",
   "execution_count": null,
   "metadata": {},
   "outputs": [],
   "source": [
    "def add_two_numbers(num1,num2):\n",
    "    return num1+num2\n",
    "add_two_numbers(10,20)"
   ]
  },
  {
   "cell_type": "markdown",
   "metadata": {},
   "source": [
    "2. Area of a circle is calculated as follows: area = π x r x r. Write a function that calculates _area_of_circle_."
   ]
  },
  {
   "cell_type": "code",
   "execution_count": null,
   "metadata": {},
   "outputs": [],
   "source": [
    "def area_of_circle(r):\n",
    "    pi = 3.14159\n",
    "    area = pi*r*r\n",
    "    return area\n",
    "area_of_circle(10)"
   ]
  },
  {
   "cell_type": "markdown",
   "metadata": {},
   "source": [
    "3. Write a function called add_all_nums which takes arbitrary number of arguments and sums all the arguments. Check if all the list items are number types. If not do give a reasonable feedback."
   ]
  },
  {
   "cell_type": "code",
   "execution_count": null,
   "metadata": {},
   "outputs": [],
   "source": [
    "def add_all_nums(*nums):\n",
    "    # nums_list = list(nums)\n",
    "    sum =0 \n",
    "    for i in nums:\n",
    "        if isinstance(i,(int,float)):\n",
    "            sum+=i\n",
    "        else:\n",
    "            raise TypeError(f\"{type(i)} item is not supported for sum.\")\n",
    "    return sum\n",
    "add_all_nums(5,6.2)"
   ]
  },
  {
   "cell_type": "markdown",
   "metadata": {},
   "source": [
    "4. Temperature in °C can be converted to °F using this formula: °F = (°C x 9/5) + 32. Write a function which converts °C to °F, _convert_celsius_to_fahrenheit_."
   ]
  },
  {
   "cell_type": "code",
   "execution_count": null,
   "metadata": {},
   "outputs": [],
   "source": [
    "def celsius_to_fahrenheit(deg):\n",
    "    fahrn = (deg*9/5)+32\n",
    "    return fahrn\n",
    "celsius_to_fahrenheit(37)"
   ]
  },
  {
   "cell_type": "markdown",
   "metadata": {},
   "source": [
    "5. Write a function called check_season, it takes a month parameter and returns the season: Autumn, Winter, Spring or Summer."
   ]
  },
  {
   "cell_type": "code",
   "execution_count": null,
   "metadata": {},
   "outputs": [],
   "source": [
    "def check_season(month):\n",
    "    if month in (\"March\",\"April\",\"May\"):\n",
    "        return \"Autumn\"\n",
    "    elif month in (\"June\",\"July\",\"August\"):\n",
    "        return \"Summer\"\n",
    "    elif month in (\"September\",\"October\",\"November\"):\n",
    "        return \"Spring\"\n",
    "    elif month in (\"December\",\"January\",\"Feburary\"):\n",
    "        return \"Winter\"\n",
    "    else:\n",
    "        return \"Not a month! Try full month name in capitalise format.\"\n",
    "check_season(\"Feburary\")"
   ]
  },
  {
   "cell_type": "markdown",
   "metadata": {},
   "source": [
    "6. Write a function called calculate_slope which return the slope of a linear equation.\n",
    "equation = 4x -2y + 8 = 0  \n",
    "format : Ax + By + C = 0\n",
    "where A = 4, B = -2 & C = 8\n",
    "      \n",
    "    ```\n",
    "    y = mx +b\n",
    "    ```\n",
    "    - m will be slope"
   ]
  },
  {
   "cell_type": "code",
   "execution_count": null,
   "metadata": {},
   "outputs": [],
   "source": [
    "def calculate_slope(a,b,c):\n",
    "    if b != 0:\n",
    "        # m is the slope.\n",
    "        m = -a/b\n",
    "        return m\n",
    "    else:\n",
    "        raise ValueError(\"Error: division by zero\")\n",
    "calculate_slope(3,-5,10)"
   ]
  },
  {
   "cell_type": "markdown",
   "metadata": {},
   "source": [
    "7. Quadratic equation is calculated as follows: ax² + bx + c = 0. Write a function which calculates solution set of a quadratic equation, _solve_quadratic_eqn_."
   ]
  },
  {
   "cell_type": "code",
   "execution_count": null,
   "metadata": {},
   "outputs": [],
   "source": [
    "# d = b*b - 4ac\n",
    "# x1 = b + sqrt(d)/2*a\n",
    "# x2 = b - sqrt(d)/2*a\n",
    "# x^2 - 5x + 6 = 0\n",
    "def solve_quadratic_eqn(a,b,c):\n",
    "    d = b*b - 4*a*c\n",
    "    x1 = (-b + d**0.5)/(2*a)\n",
    "    x2 = (-b - d**0.5)/(2*a)\n",
    "    return x1,x2\n",
    "print(solve_quadratic_eqn(1,-5,6))"
   ]
  },
  {
   "cell_type": "markdown",
   "metadata": {},
   "source": [
    "8. Declare a function named print_list. It takes a list as a parameter and it prints out each element of the list."
   ]
  },
  {
   "cell_type": "code",
   "execution_count": null,
   "metadata": {},
   "outputs": [],
   "source": [
    "def print_list(myList:list[int]) ->list[list[int]]:\n",
    "    for ele in myList:\n",
    "        print(ele)\n",
    " \n",
    "print_list([1,3,2,1,4,5])"
   ]
  },
  {
   "cell_type": "markdown",
   "metadata": {},
   "source": [
    "9. Declare a function named reverse_list. It takes an array as a parameter and it returns the reverse of the array (use loops).\n",
    "\n",
    "    ```py\n",
    "    print(reverse_list([1, 2, 3, 4, 5]))\n",
    "    # [5, 4, 3, 2, 1]\n",
    "    print(reverse_list1([\"A\", \"B\", \"C\"]))\n",
    "    # [\"C\", \"B\", \"A\"]\n",
    "    ```"
   ]
  },
  {
   "cell_type": "code",
   "execution_count": null,
   "metadata": {},
   "outputs": [],
   "source": [
    "def reverse_list(arrayList:list[str])->list[list[str]]:\n",
    "    for item in range(len(arrayList)-1,-1,-1):\n",
    "        print(arrayList[item],end=' ')\n",
    "reverse_list([1,2,3,4,5])"
   ]
  },
  {
   "cell_type": "markdown",
   "metadata": {},
   "source": [
    "10. Declare a function named capitalize_list_items. It takes a list as a parameter and it returns a capitalized list of items."
   ]
  },
  {
   "cell_type": "code",
   "execution_count": null,
   "metadata": {},
   "outputs": [],
   "source": [
    "def capitalize_list_items(itemList:list):\n",
    "    newList = []\n",
    "    for item in itemList:\n",
    "        newList.append(item.capitalize())\n",
    "    return newList\n",
    "print(capitalize_list_items(['abc def','bcd','def']))"
   ]
  },
  {
   "cell_type": "markdown",
   "metadata": {},
   "source": [
    "11. Declare a function named add_item. It takes a list and an item parameters. It returns a list with the item added at the end.\n",
    "\n",
    "    ```py\n",
    "    food_staff = ['Potato', 'Tomato', 'Mango', 'Milk']\n",
    "    print(add_item(food_staff, 'Meat'))     # ['Potato', 'Tomato', 'Mango', 'Milk','Meat'];\n",
    "    numbers = [2, 3, 7, 9]\n",
    "    print(add_item(numbers, 5))             # [2, 3, 7, 9, 5]\n",
    "    ```"
   ]
  },
  {
   "cell_type": "code",
   "execution_count": 16,
   "metadata": {},
   "outputs": [
    {
     "name": "stdout",
     "output_type": "stream",
     "text": [
      "['potato', 'tomato', 'Mango', 'Milk', 'Meat']\n",
      "[2, 3, 7, 9, 5]\n"
     ]
    }
   ],
   "source": [
    "def add_item(listItem:list,item:str):\n",
    "    listItem.append(item)\n",
    "    return listItem\n",
    "print(add_item(['potato','tomato',\"Mango\",\"Milk\"],\"Meat\"))\n",
    "numbers = [2,3,7,9]\n",
    "print(add_item(numbers,5))"
   ]
  },
  {
   "cell_type": "markdown",
   "metadata": {},
   "source": [
    "12. Declare a function named remove_item. It takes a list and an item parameters. It returns a list with the item removed from it.\n",
    "\n",
    "    ```py\n",
    "    food_staff = ['Potato', 'Tomato', 'Mango', 'Milk']\n",
    "    print(remove_item(food_staff, 'Mango'))     # ['Potato', 'Tomato', 'Milk'];\n",
    "    numbers = [2, 3, 7, 9]\n",
    "    print(remove_item(numbers, 3))              # [2, 7, 9]\n",
    "    ```"
   ]
  },
  {
   "cell_type": "code",
   "execution_count": 17,
   "metadata": {},
   "outputs": [
    {
     "name": "stdout",
     "output_type": "stream",
     "text": [
      "['Potato', 'Tomato', 'Milk']\n"
     ]
    }
   ],
   "source": [
    "def remove_item(listItem:list,item:str):\n",
    "    listItem.remove(item)\n",
    "    return listItem\n",
    "food_staff = ['Potato', 'Tomato', 'Mango', 'Milk']\n",
    "print(remove_item(food_staff, 'Mango'))"
   ]
  },
  {
   "cell_type": "markdown",
   "metadata": {},
   "source": [
    "13. Declare a function named sum_of_numbers. It takes a number parameter and it adds all the numbers in that range.\n",
    "\n",
    "    ```py\n",
    "    print(sum_of_numbers(5))        # 15\n",
    "    print(sum_of_numbers(10))      # 55\n",
    "    print(sum_of_numbers(100))     # 5050\n",
    "    ```"
   ]
  },
  {
   "cell_type": "code",
   "execution_count": 19,
   "metadata": {},
   "outputs": [
    {
     "name": "stdout",
     "output_type": "stream",
     "text": [
      "15\n",
      "55\n",
      "5050\n"
     ]
    }
   ],
   "source": [
    "def sum_of_numbers(num:int):\n",
    "    sum = 0\n",
    "    for i in range(num+1):\n",
    "        sum+=i\n",
    "    return sum\n",
    "print(sum_of_numbers(5))\n",
    "print(sum_of_numbers(10))\n",
    "print(sum_of_numbers(100))"
   ]
  },
  {
   "cell_type": "markdown",
   "metadata": {},
   "source": [
    "14. Declare a function named sum_of_odds. It takes a number parameter and it adds all the odd numbers in that range."
   ]
  },
  {
   "cell_type": "code",
   "execution_count": 20,
   "metadata": {},
   "outputs": [
    {
     "name": "stdout",
     "output_type": "stream",
     "text": [
      "9\n"
     ]
    }
   ],
   "source": [
    "def sum_of_odds(num:int):\n",
    "    sum = 0\n",
    "    for i in range(1,num+1):\n",
    "        if i%2!=0:\n",
    "            sum+=i\n",
    "    return sum\n",
    "print(sum_of_odds(5))"
   ]
  },
  {
   "cell_type": "markdown",
   "metadata": {},
   "source": [
    "\n",
    "15. Declare a function named sum_of_even. It takes a number parameter and it adds all the even numbers in that range."
   ]
  },
  {
   "cell_type": "code",
   "execution_count": 22,
   "metadata": {},
   "outputs": [
    {
     "name": "stdout",
     "output_type": "stream",
     "text": [
      "30\n"
     ]
    }
   ],
   "source": [
    "def sum_of_even(num:int):\n",
    "    sum = 0\n",
    "    for i in range(1,num+1):\n",
    "        if i%2==0:\n",
    "            sum+=i\n",
    "    return sum\n",
    "print(sum_of_even(10))"
   ]
  }
 ],
 "metadata": {
  "kernelspec": {
   "display_name": "Python 3",
   "language": "python",
   "name": "python3"
  },
  "language_info": {
   "codemirror_mode": {
    "name": "ipython",
    "version": 3
   },
   "file_extension": ".py",
   "mimetype": "text/x-python",
   "name": "python",
   "nbconvert_exporter": "python",
   "pygments_lexer": "ipython3",
   "version": "3.11.8"
  }
 },
 "nbformat": 4,
 "nbformat_minor": 2
}
