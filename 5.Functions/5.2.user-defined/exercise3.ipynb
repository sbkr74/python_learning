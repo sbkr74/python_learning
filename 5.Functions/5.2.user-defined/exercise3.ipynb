{
 "cells": [
  {
   "cell_type": "markdown",
   "metadata": {},
   "source": [
    "### Exercises: Level 3\n",
    "\n",
    "1. Write a function called is_prime, which checks if a number is prime."
   ]
  },
  {
   "cell_type": "markdown",
   "metadata": {},
   "source": [
    "2. Write a functions which checks if all items are unique in the list."
   ]
  },
  {
   "cell_type": "markdown",
   "metadata": {},
   "source": [
    "3. Write a function which checks if all the items of the list are of the same data type."
   ]
  },
  {
   "cell_type": "markdown",
   "metadata": {},
   "source": [
    "4. Write a function which check if provided variable is a valid python variable"
   ]
  },
  {
   "cell_type": "markdown",
   "metadata": {},
   "source": [
    "5. Go to the data folder and access the countries-data.py file.\n",
    "\n",
    "- Create a function called the most_spoken_languages in the world. It should return 10 or 20 most spoken languages in the world in descending order\n",
    "- Create a function called the most_populated_countries. It should return 10 or 20 most populated countries in descending order."
   ]
  }
 ],
 "metadata": {
  "kernelspec": {
   "display_name": "Python 3",
   "language": "python",
   "name": "python3"
  },
  "language_info": {
   "name": "python",
   "version": "3.11.8"
  }
 },
 "nbformat": 4,
 "nbformat_minor": 2
}
