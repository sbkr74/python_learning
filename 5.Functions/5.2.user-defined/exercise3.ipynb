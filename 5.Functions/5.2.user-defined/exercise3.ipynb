{
 "cells": [
  {
   "cell_type": "markdown",
   "metadata": {},
   "source": [
    "### Exercises: Level 3\n",
    "\n",
    "1. Write a function called is_prime, which checks if a number is prime."
   ]
  },
  {
   "cell_type": "code",
   "execution_count": null,
   "metadata": {},
   "outputs": [],
   "source": [
    "def is_prime(num):\n",
    "    count = 0\n",
    "    for i in range(2,num):\n",
    "        if num%i == 0:\n",
    "            count+=1\n",
    "    if count == 0:\n",
    "        print(num,\"is prime.\")\n",
    "    else:\n",
    "        print(num,\"is not prime.\")\n",
    "\n",
    "is_prime(23)"
   ]
  },
  {
   "cell_type": "markdown",
   "metadata": {},
   "source": [
    "2. Write a functions which checks if all items are unique in the list."
   ]
  },
  {
   "cell_type": "code",
   "execution_count": null,
   "metadata": {},
   "outputs": [],
   "source": [
    "def check_unique(items:list):\n",
    "    count = 0\n",
    "    for i in range(len(items)):\n",
    "        for j in range(i+1,len(items)):\n",
    "            if items[i] == items[j]:\n",
    "                count+=1\n",
    "    if count == 0:\n",
    "        return \"list is unique\"\n",
    "    else:\n",
    "        return \"list contain duplicate items\"\n",
    "myList = [1,2,3,4,5,7]\n",
    "print(check_unique(myList))"
   ]
  },
  {
   "cell_type": "code",
   "execution_count": null,
   "metadata": {},
   "outputs": [],
   "source": [
    "def check_unique(items: list):\n",
    "    if len(items) == len(set(items)):\n",
    "        return \"list is unique\"\n",
    "    else:\n",
    "        return \"list contains duplicate items\"\n",
    "\n",
    "myList = [1, 2, 3, 4, 5, 7, 2]\n",
    "print(check_unique(myList))\n"
   ]
  },
  {
   "cell_type": "markdown",
   "metadata": {},
   "source": [
    "3. Write a function which checks if all the items of the list are of the same data type."
   ]
  },
  {
   "cell_type": "code",
   "execution_count": null,
   "metadata": {},
   "outputs": [],
   "source": [
    "def check_dt(ele:list):\n",
    "    count = 0\n",
    "    dt = type(ele[0])\n",
    "    for i in range(len(ele)):\n",
    "        if type(ele[i]) != dt:\n",
    "            count+=1\n",
    "    if count == 0:\n",
    "        return \"List element has same data type\"\n",
    "    else:\n",
    "        return \"List element has different data types.\"\n",
    "myList = ['a',1,2,3,7,99,121,4554]\n",
    "print(check_dt(myList))"
   ]
  },
  {
   "cell_type": "code",
   "execution_count": null,
   "metadata": {},
   "outputs": [],
   "source": [
    "def check_dt(ele:list):\n",
    "    count = 0\n",
    "    for i in range(len(ele)):\n",
    "        for j in range(i+1,len(ele)):\n",
    "            if type(ele[i]) != type(ele[j]):\n",
    "                count+=1\n",
    "    if count == 0:\n",
    "        return \"List element has same data type\"\n",
    "    else:\n",
    "        return \"List element has different data types.\"\n",
    "myList = [1,2,3,7,99,121,4554,'ab']\n",
    "print(check_dt(myList))"
   ]
  },
  {
   "cell_type": "markdown",
   "metadata": {},
   "source": [
    "4. Write a function which check if provided variable is a valid python variable"
   ]
  },
  {
   "cell_type": "code",
   "execution_count": null,
   "metadata": {},
   "outputs": [],
   "source": [
    "from keyword import iskeyword\n",
    "datatype_names = {\"int\", \"float\", \"str\", \"list\", \"dict\", \"set\", \"tuple\", \"bool\", \"bytes\", \"complex\", \"range\"}\n",
    "def var_validation(name):\n",
    "    return name.isidentifier() and not iskeyword(name) and name not in datatype_names\n",
    "print(var_validation(\"string\"))"
   ]
  },
  {
   "cell_type": "markdown",
   "metadata": {},
   "source": [
    "5. Go to the data folder and access the countries-data.py file.\n",
    "\n",
    "- Create a function called the most_spoken_languages in the world. It should return 10 or 20 most spoken languages in the world in descending order\n",
    "- Create a function called the most_populated_countries. It should return 10 or 20 most populated countries in descending order."
   ]
  },
  {
   "cell_type": "code",
   "execution_count": null,
   "metadata": {},
   "outputs": [],
   "source": [
    "import json\n",
    "def most_spoken_languages():\n",
    "    pass\n",
    "path = r'D:\\Learning\\python_learning\\Data\\countries-data.py'\n",
    "with open(path,\"r\",encoding='utf-8') as File:\n",
    "    details = File.read()\n",
    "\n",
    "# Now parse the JSON data\n",
    "countries_data = json.loads(details)\n",
    "lang_list = []\n",
    "for countries in countries_data:\n",
    "    if 'languages' in countries:\n",
    "        for ele in countries['languages']:\n",
    "            lang_list.append(ele)\n",
    "print(lang_list)"
   ]
  }
 ],
 "metadata": {
  "kernelspec": {
   "display_name": "Python 3",
   "language": "python",
   "name": "python3"
  },
  "language_info": {
   "codemirror_mode": {
    "name": "ipython",
    "version": 3
   },
   "file_extension": ".py",
   "mimetype": "text/x-python",
   "name": "python",
   "nbconvert_exporter": "python",
   "pygments_lexer": "ipython3",
   "version": "3.11.8"
  }
 },
 "nbformat": 4,
 "nbformat_minor": 2
}
