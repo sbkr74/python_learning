{
 "cells": [
  {
   "cell_type": "markdown",
   "metadata": {},
   "source": [
    "### Exercises: Level 1\n",
    "\n",
    "1. Write a function which generates a six digit/character random_user_id.\n",
    "   ```py\n",
    "     print(random_user_id())\n",
    "     '1ee33d'\n",
    "   ```"
   ]
  },
  {
   "cell_type": "code",
   "execution_count": null,
   "metadata": {},
   "outputs": [],
   "source": [
    "from ex1 import random_user_id\n",
    "print(random_user_id())"
   ]
  },
  {
   "cell_type": "markdown",
   "metadata": {},
   "source": [
    "2. Modify the previous task. Declare a function named user_id_gen_by_user. It doesn’t take any parameters but it takes two inputs using input(). One of the inputs is the number of characters and the second input is the number of IDs which are supposed to be generated.\n",
    "   \n",
    "    ```py\n",
    "    print(user_id_gen_by_user()) # user input: 5 5\n",
    "    #output:\n",
    "    #kcsy2\n",
    "    #SMFYb\n",
    "    #bWmeq\n",
    "    #ZXOYh\n",
    "    #2Rgxf\n",
    "    \n",
    "    print(user_id_gen_by_user()) # 16 5\n",
    "    #1GCSgPLMaBAVQZ26\n",
    "    #YD7eFwNQKNs7qXaT\n",
    "    #ycArC5yrRupyG00S\n",
    "    #UbGxOFI7UXSWAyKN\n",
    "    #dIV0SSUTgAdKwStr\n",
    "    ```"
   ]
  },
  {
   "cell_type": "code",
   "execution_count": null,
   "metadata": {},
   "outputs": [],
   "source": [
    "from ex1 import user_id_gen_by_user\n",
    "user_id_gen_by_user()"
   ]
  },
  {
   "cell_type": "markdown",
   "metadata": {},
   "source": [
    "3. Write a function named rgb_color_gen. It will generate rgb colors (3 values ranging from 0 to 255 each).\n",
    "    \n",
    "    ```py\n",
    "    print(rgb_color_gen())\n",
    "    # rgb(125,244,255) - the output should be in this form\n",
    "    ```"
   ]
  },
  {
   "cell_type": "code",
   "execution_count": null,
   "metadata": {},
   "outputs": [],
   "source": [
    "from ex1 import rgb_color_gen\n",
    "print(rgb_color_gen())"
   ]
  }
 ],
 "metadata": {
  "kernelspec": {
   "display_name": "Python 3",
   "language": "python",
   "name": "python3"
  },
  "language_info": {
   "codemirror_mode": {
    "name": "ipython",
    "version": 3
   },
   "file_extension": ".py",
   "mimetype": "text/x-python",
   "name": "python",
   "nbconvert_exporter": "python",
   "pygments_lexer": "ipython3",
   "version": "3.11.8"
  }
 },
 "nbformat": 4,
 "nbformat_minor": 2
}
