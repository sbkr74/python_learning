{
 "cells": [
  {
   "cell_type": "markdown",
   "metadata": {},
   "source": [
    "### Exercises: Level 2\n",
    "\n",
    "1. Write a function list_of_hexa_colors which returns any number of hexadecimal colors in an array (six hexadecimal numbers written after #. Hexadecimal numeral system is made out of 16 symbols, 0-9 and first 6 letters of the alphabet, a-f. Check the task 6 for output examples).\n",
    "\n",
    "    ```py\n",
    "        print(list_of_hexa_colors()) # ['#a3e12f','#03ed55','#eb3d2b']\n",
    "    ```"
   ]
  },
  {
   "cell_type": "code",
   "execution_count": 1,
   "metadata": {},
   "outputs": [
    {
     "name": "stdout",
     "output_type": "stream",
     "text": [
      "['#744de5', '#d0594c', '#808f90']\n"
     ]
    }
   ],
   "source": [
    "from exercise2 import list_of_hexa_colors\n",
    "print(list_of_hexa_colors())"
   ]
  },
  {
   "cell_type": "markdown",
   "metadata": {},
   "source": [
    "2. Write a function list_of_rgb_colors which returns any number of RGB colors in an array.\n",
    "\n",
    "    ```py\n",
    "        print(list_of_rgb_colors()) # ['rgb(5, 55, 175','rgb(50, 105, 100','rgb(15, 26, 80'] \n",
    "    ```"
   ]
  },
  {
   "cell_type": "code",
   "execution_count": 2,
   "metadata": {},
   "outputs": [
    {
     "name": "stdout",
     "output_type": "stream",
     "text": [
      "['rgb(84,124,116)', 'rgb(197,231,245)', 'rgb(241,36,139)']\n"
     ]
    }
   ],
   "source": [
    "from exercise2 import list_of_rgb_colors\n",
    "print(list_of_rgb_colors())"
   ]
  },
  {
   "cell_type": "markdown",
   "metadata": {},
   "source": [
    "3. Write a function generate_colors which can generate any number of hexa or rgb colors.\n",
    "\n",
    "   ```py\n",
    "      generate_colors('hexa', 3) # ['#a3e12f','#03ed55','#eb3d2b'] \n",
    "      generate_colors('hexa', 1) # ['#b334ef']\n",
    "      generate_colors('rgb', 3)  # ['rgb(5, 55, 175','rgb(50, 105, 100','rgb(15, 26, 80'] \n",
    "      generate_colors('rgb', 1)  # ['rgb(33,79, 176)']\n",
    "   ```"
   ]
  },
  {
   "cell_type": "code",
   "execution_count": 3,
   "metadata": {},
   "outputs": [
    {
     "name": "stdout",
     "output_type": "stream",
     "text": [
      "['#26421d', '#99d290', '#28f85b']\n",
      "['#efbfc9']\n",
      "['rgb(160,90,109)', 'rgb(24,68,95)', 'rgb(57,92,243)']\n",
      "['rgb(31,234,16)']\n"
     ]
    }
   ],
   "source": [
    "from exercise2 import generate_colors\n",
    "print(generate_colors('hexa',3))\n",
    "print(generate_colors('hexa',1))\n",
    "print(generate_colors('rgb',3))\n",
    "print(generate_colors('rgb',1))"
   ]
  }
 ],
 "metadata": {
  "kernelspec": {
   "display_name": "Python 3",
   "language": "python",
   "name": "python3"
  },
  "language_info": {
   "codemirror_mode": {
    "name": "ipython",
    "version": 3
   },
   "file_extension": ".py",
   "mimetype": "text/x-python",
   "name": "python",
   "nbconvert_exporter": "python",
   "pygments_lexer": "ipython3",
   "version": "3.11.8"
  }
 },
 "nbformat": 4,
 "nbformat_minor": 2
}
