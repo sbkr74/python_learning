{
 "cells": [
  {
   "cell_type": "markdown",
   "metadata": {},
   "source": [
    "### Exercises: Level 2\n",
    "\n",
    "1. Write a function list_of_hexa_colors which returns any number of hexadecimal colors in an array (six hexadecimal numbers written after #. Hexadecimal numeral system is made out of 16 symbols, 0-9 and first 6 letters of the alphabet, a-f. Check the task 6 for output examples).\n",
    "\n",
    "    ```py\n",
    "        print(list_of_hexa_colors()) # ['#a3e12f','#03ed55','#eb3d2b']\n",
    "    ```"
   ]
  },
  {
   "cell_type": "code",
   "execution_count": null,
   "metadata": {},
   "outputs": [],
   "source": [
    "from exercise2 import list_of_hexa_colors\n",
    "print(list_of_hexa_colors())"
   ]
  },
  {
   "cell_type": "markdown",
   "metadata": {},
   "source": [
    "2. Write a function list_of_rgb_colors which returns any number of RGB colors in an array.\n",
    "\n",
    "    ```py\n",
    "        print(list_of_rgb_colors()) # ['rgb(5, 55, 175','rgb(50, 105, 100','rgb(15, 26, 80'] \n",
    "    ```"
   ]
  },
  {
   "cell_type": "code",
   "execution_count": null,
   "metadata": {},
   "outputs": [],
   "source": [
    "from exercise2 import list_of_rgb_colors\n",
    "print(list_of_rgb_colors())"
   ]
  },
  {
   "cell_type": "markdown",
   "metadata": {},
   "source": [
    "3. Write a function generate_colors which can generate any number of hexa or rgb colors.\n",
    "\n",
    "   ```py\n",
    "      generate_colors('hexa', 3) # ['#a3e12f','#03ed55','#eb3d2b'] \n",
    "      generate_colors('hexa', 1) # ['#b334ef']\n",
    "      generate_colors('rgb', 3)  # ['rgb(5, 55, 175','rgb(50, 105, 100','rgb(15, 26, 80'] \n",
    "      generate_colors('rgb', 1)  # ['rgb(33,79, 176)']\n",
    "   ```"
   ]
  },
  {
   "cell_type": "code",
   "execution_count": null,
   "metadata": {},
   "outputs": [],
   "source": [
    "from exercise2 import generate_colors\n",
    "print(generate_colors('hexa',3))\n",
    "print(generate_colors('hexa',1))\n",
    "print(generate_colors('rgb',3))\n",
    "print(generate_colors('rgb',1))"
   ]
  }
 ],
 "metadata": {
  "kernelspec": {
   "display_name": "Python 3",
   "language": "python",
   "name": "python3"
  },
  "language_info": {
   "codemirror_mode": {
    "name": "ipython",
    "version": 3
   },
   "file_extension": ".py",
   "mimetype": "text/x-python",
   "name": "python",
   "nbconvert_exporter": "python",
   "pygments_lexer": "ipython3",
   "version": "3.11.8"
  }
 },
 "nbformat": 4,
 "nbformat_minor": 2
}
