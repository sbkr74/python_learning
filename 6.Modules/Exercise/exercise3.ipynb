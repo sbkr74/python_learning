{
 "cells": [
  {
   "cell_type": "markdown",
   "metadata": {},
   "source": [
    "### Exercises: Level 3\n",
    "\n",
    "1. Call your function shuffle_list, it takes a list as a parameter and it returns a shuffled list.\n",
    "\n",
    "    ```py\n",
    "    myList = [1,2,3,4,5]\n",
    "    print(shuffle_list(myList))     # [3,1,2,5,4]\n",
    "    ````"
   ]
  },
  {
   "cell_type": "code",
   "execution_count": null,
   "metadata": {},
   "outputs": [],
   "source": [
    "from exercise3 import shuffle_list\n",
    "userList = [9,8,7,4,5,6]\n",
    "print(shuffle_list(userList))"
   ]
  },
  {
   "cell_type": "markdown",
   "metadata": {},
   "source": [
    "2. Write a function which returns an array of seven random numbers in a range of 0-9. All the numbers must be unique.\n",
    "\n",
    "    ```py\n",
    "    print(random7()) # [4,3,2,1,9,8,7]\n",
    "    print(random7()) # [1,2,3,4,5,6,7]\n",
    "    print(random7()) # [9,8,7,6,5,4,3]\n",
    "    print(random7()) # [1,3,5,7,9,0,2]\n",
    "    ```"
   ]
  },
  {
   "cell_type": "code",
   "execution_count": null,
   "metadata": {},
   "outputs": [],
   "source": [
    "from exercise3 import random7\n",
    "print(random7())"
   ]
  }
 ],
 "metadata": {
  "kernelspec": {
   "display_name": "Python 3",
   "language": "python",
   "name": "python3"
  },
  "language_info": {
   "codemirror_mode": {
    "name": "ipython",
    "version": 3
   },
   "file_extension": ".py",
   "mimetype": "text/x-python",
   "name": "python",
   "nbconvert_exporter": "python",
   "pygments_lexer": "ipython3",
   "version": "3.11.8"
  }
 },
 "nbformat": 4,
 "nbformat_minor": 2
}
