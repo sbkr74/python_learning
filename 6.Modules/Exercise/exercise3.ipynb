{
 "cells": [
  {
   "cell_type": "markdown",
   "metadata": {},
   "source": [
    "### Exercises: Level 3\n",
    "\n",
    "1. Call your function shuffle_list, it takes a list as a parameter and it returns a shuffled list.\n",
    "\n",
    "    ```py\n",
    "    myList = [1,2,3,4,5]\n",
    "    print(shuffle_list(myList))     # [3,1,2,5,4]\n",
    "    ````"
   ]
  },
  {
   "cell_type": "code",
   "execution_count": null,
   "metadata": {},
   "outputs": [],
   "source": []
  },
  {
   "cell_type": "markdown",
   "metadata": {},
   "source": [
    "2. Write a function which returns an array of seven random numbers in a range of 0-9. All the numbers must be unique.\n",
    "\n",
    "    ```py\n",
    "    print(random7()) # [4,3,2,1,9,8,7]\n",
    "    print(random7()) # [1,2,3,4,5,6,7]\n",
    "    print(random7()) # [9,8,7,6,5,4,3]\n",
    "    print(random7()) # [1,3,5,7,9,0,2]\n",
    "    ```"
   ]
  }
 ],
 "metadata": {
  "language_info": {
   "name": "python"
  }
 },
 "nbformat": 4,
 "nbformat_minor": 2
}
