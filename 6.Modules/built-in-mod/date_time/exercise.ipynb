{
 "cells": [
  {
   "cell_type": "markdown",
   "metadata": {},
   "source": [
    "1. Get the current day, month, year, hour, minute and timestamp from datetime module\n",
    "1. Format the current date using this format: \"%m/%d/%Y, %H:%M:%S\")\n",
    "1. Today is 5 December, 2019. Change this time string to time.\n",
    "1. Calculate the time difference between now and new year.\n",
    "1. Calculate the time difference between 1 January 1970 and now.\n",
    "1. Think, what can you use the datetime module for? Examples:\n",
    "   - Time series analysis\n",
    "   - To get a timestamp of any activities in an application\n",
    "   - Adding posts on a blog "
   ]
  }
 ],
 "metadata": {
  "kernelspec": {
   "display_name": "Python 3",
   "language": "python",
   "name": "python3"
  },
  "language_info": {
   "name": "python",
   "version": "3.11.8"
  }
 },
 "nbformat": 4,
 "nbformat_minor": 2
}
