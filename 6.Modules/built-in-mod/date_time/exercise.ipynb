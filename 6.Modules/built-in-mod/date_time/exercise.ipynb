{
 "cells": [
  {
   "cell_type": "markdown",
   "metadata": {},
   "source": [
    "1. Get the current day, month, year, hour, minute and timestamp from datetime module\n"
   ]
  },
  {
   "cell_type": "code",
   "execution_count": 6,
   "metadata": {},
   "outputs": [
    {
     "name": "stdout",
     "output_type": "stream",
     "text": [
      "Day: 23\n",
      "Month: 1\n",
      "Year: 2025\n",
      "Hour: 14\n",
      "Minute: 55\n",
      "Timestamp: 1737624319.535115\n"
     ]
    }
   ],
   "source": [
    "from date_time import datetime\n",
    "current = datetime.now()\n",
    "current_day = current.day\n",
    "month = current.month\n",
    "year = current.year\n",
    "hour = current.hour\n",
    "minute = current.minute\n",
    "timest = current.timestamp()\n",
    "\n",
    "print(\"Day:\",current_day)\n",
    "print(\"Month:\",month)\n",
    "print(\"Year:\",year)\n",
    "print(\"Hour:\",hour)\n",
    "print(\"Minute:\",minute)\n",
    "print(\"Timestamp:\",timest)\n",
    "\n"
   ]
  },
  {
   "cell_type": "markdown",
   "metadata": {},
   "source": [
    "2. Format the current date using this format: \"%m/%d/%Y, %H:%M:%S\"\n"
   ]
  },
  {
   "cell_type": "code",
   "execution_count": 7,
   "metadata": {},
   "outputs": [
    {
     "name": "stdout",
     "output_type": "stream",
     "text": [
      "2025-01-23 14:55:19.535115\n",
      "01/23/2025, 14:55:19\n"
     ]
    }
   ],
   "source": [
    "print(current)\n",
    "formatted = current.strftime(\"%m/%d/%Y, %H:%M:%S\")\n",
    "print(formatted)"
   ]
  },
  {
   "cell_type": "markdown",
   "metadata": {},
   "source": [
    "3. Today is 5 December, 2019. Change this time string to time.\n"
   ]
  },
  {
   "cell_type": "code",
   "execution_count": 8,
   "metadata": {},
   "outputs": [
    {
     "name": "stdout",
     "output_type": "stream",
     "text": [
      "2019-12-05 00:00:00\n"
     ]
    }
   ],
   "source": [
    "from date_time import datetime\n",
    "given_day = \"5 December 2019\"\n",
    "format_day = datetime.strptime(given_day,\"%d %B %Y\")\n",
    "print(format_day)\n"
   ]
  },
  {
   "cell_type": "markdown",
   "metadata": {},
   "source": [
    "4. Calculate the time difference between now and new year."
   ]
  },
  {
   "cell_type": "code",
   "execution_count": 10,
   "metadata": {},
   "outputs": [
    {
     "name": "stdout",
     "output_type": "stream",
     "text": [
      "22 days, 14:58:04.428046\n"
     ]
    }
   ],
   "source": [
    "from date_time import datetime\n",
    "today = datetime.now()\n",
    "new_year = datetime(year=2025, month=1, day=1)\n",
    "diff = today - new_year\n",
    "print(diff)"
   ]
  },
  {
   "cell_type": "markdown",
   "metadata": {},
   "source": [
    "5. Calculate the time difference between 1 January 1970 and now.\n"
   ]
  },
  {
   "cell_type": "code",
   "execution_count": 11,
   "metadata": {},
   "outputs": [
    {
     "name": "stdout",
     "output_type": "stream",
     "text": [
      "20111 days, 14:59:02.347960\n"
     ]
    }
   ],
   "source": [
    "from date_time import datetime\n",
    "today = datetime.now()\n",
    "new_year = datetime(year=1970, month=1, day=1)\n",
    "diff = today - new_year\n",
    "print(diff)"
   ]
  },
  {
   "cell_type": "markdown",
   "metadata": {},
   "source": [
    "6. Think, what can you use the datetime module for? Examples:\n",
    "   - Time series analysis\n",
    "   - To get a timestamp of any activities in an application\n",
    "   - Adding posts on a blog "
   ]
  },
  {
   "cell_type": "markdown",
   "metadata": {},
   "source": [
    "In business contexts, the `datetime` module is crucial for managing operations, analytics, and decision-making. Here are several **business use cases** where `datetime` plays a key role:\n",
    "\n",
    "---\n",
    "\n",
    "### 1. **Invoice and Billing Management**\n",
    "   - Generate and manage invoices with precise timestamps.\n",
    "   - Calculate payment due dates and overdue periods.\n",
    "   ```python\n",
    "   from datetime import datetime, timedelta\n",
    "\n",
    "   invoice_date = datetime(2025, 1, 23)\n",
    "   due_date = invoice_date + timedelta(days=30)  # 30-day payment terms\n",
    "   print(f\"Invoice Date: {invoice_date}\")\n",
    "   print(f\"Payment Due Date: {due_date}\")\n",
    "   ```\n",
    "\n",
    "---\n",
    "\n",
    "### 2. **Employee Attendance and Shift Scheduling**\n",
    "   - Track employee attendance with time stamps.\n",
    "   - Generate shift schedules and calculate overtime or absences.\n",
    "   ```python\n",
    "   from datetime import datetime, time\n",
    "\n",
    "   check_in_time = datetime(2025, 1, 23, 9, 0)\n",
    "   check_out_time = datetime(2025, 1, 23, 18, 30)\n",
    "   work_hours = (check_out_time - check_in_time).seconds / 3600  # Calculate hours\n",
    "   print(f\"Work Hours: {work_hours} hours\")\n",
    "   ```\n",
    "\n",
    "---\n",
    "\n",
    "### 3. **Inventory and Supply Chain Management**\n",
    "   - Track inventory aging (e.g., for perishable goods).\n",
    "   - Estimate delivery times and manage supply chain timelines.\n",
    "   ```python\n",
    "   from datetime import datetime, timedelta\n",
    "\n",
    "   stock_received_date = datetime(2025, 1, 10)\n",
    "   shelf_life = timedelta(days=30)  # Perishable item\n",
    "   expiry_date = stock_received_date + shelf_life\n",
    "   print(f\"Expiry Date: {expiry_date}\")\n",
    "   ```\n",
    "\n",
    "---\n",
    "\n",
    "### 4. **Customer Relationship Management (CRM)**\n",
    "   - Manage customer interactions based on dates (e.g., follow-ups, anniversaries, birthdays).\n",
    "   - Send timely reminders or promotional offers.\n",
    "   ```python\n",
    "   from datetime import datetime\n",
    "\n",
    "   last_purchase = datetime(2024, 12, 25)\n",
    "   today = datetime.now()\n",
    "   days_since_last_purchase = (today - last_purchase).days\n",
    "   print(f\"Days since last purchase: {days_since_last_purchase}\")\n",
    "   ```\n",
    "\n",
    "---\n",
    "\n",
    "### 5. **Performance Analytics and Reporting**\n",
    "   - Compare performance metrics over specific time periods (e.g., daily, weekly, quarterly).\n",
    "   - Analyze trends based on time series data.\n",
    "   ```python\n",
    "   from datetime import datetime\n",
    "\n",
    "   sales = [\n",
    "       {\"date\": datetime(2025, 1, 1), \"revenue\": 1000},\n",
    "       {\"date\": datetime(2025, 1, 15), \"revenue\": 1500},\n",
    "   ]\n",
    "   monthly_revenue = sum(item[\"revenue\"] for item in sales if item[\"date\"].month == 1)\n",
    "   print(f\"Monthly Revenue: {monthly_revenue}\")\n",
    "   ```\n",
    "\n",
    "---\n",
    "\n",
    "### 6. **Project Management**\n",
    "   - Define project timelines, deadlines, and milestones.\n",
    "   - Calculate time remaining to complete tasks.\n",
    "   ```python\n",
    "   from datetime import datetime\n",
    "\n",
    "   project_deadline = datetime(2025, 2, 15)\n",
    "   today = datetime.now()\n",
    "   remaining_days = (project_deadline - today).days\n",
    "   print(f\"Days remaining to complete project: {remaining_days}\")\n",
    "   ```\n",
    "\n",
    "---\n",
    "\n",
    "### 7. **Holiday and Leave Management**\n",
    "   - Track employee leaves and holidays.\n",
    "   - Calculate working days between two dates, excluding weekends and holidays.\n",
    "   ```python\n",
    "   from datetime import datetime, timedelta\n",
    "\n",
    "   start_date = datetime(2025, 1, 23)\n",
    "   end_date = datetime(2025, 1, 30)\n",
    "   leave_days = (end_date - start_date).days + 1\n",
    "   print(f\"Total Leave Days: {leave_days}\")\n",
    "   ```\n",
    "\n",
    "---\n",
    "\n",
    "### 8. **E-Commerce and Promotions**\n",
    "   - Create limited-time promotions or flash sales.\n",
    "   - Track the start and end times of offers.\n",
    "   ```python\n",
    "   from datetime import datetime, timedelta\n",
    "\n",
    "   promotion_start = datetime(2025, 1, 20, 0, 0)\n",
    "   promotion_end = promotion_start + timedelta(days=7)\n",
    "   print(f\"Promotion ends on: {promotion_end}\")\n",
    "   ```\n",
    "\n",
    "---\n",
    "\n",
    "### 9. **Banking and Financial Transactions**\n",
    "   - Calculate interest, maturity dates, and overdue penalties.\n",
    "   - Manage recurring payments or subscriptions.\n",
    "   ```python\n",
    "   from datetime import datetime, timedelta\n",
    "\n",
    "   loan_disbursement_date = datetime(2025, 1, 1)\n",
    "   interest_period = timedelta(days=30)\n",
    "   next_payment_date = loan_disbursement_date + interest_period\n",
    "   print(f\"Next Payment Date: {next_payment_date}\")\n",
    "   ```\n",
    "\n",
    "---\n",
    "\n",
    "### 10. **Regulatory Compliance**\n",
    "   - Monitor deadlines for tax filings, audits, and other regulatory requirements.\n",
    "   ```python\n",
    "   from datetime import datetime, timedelta\n",
    "\n",
    "   filing_deadline = datetime(2025, 3, 31)\n",
    "   today = datetime.now()\n",
    "   if today > filing_deadline:\n",
    "       print(\"Filing is overdue!\")\n",
    "   else:\n",
    "       print(f\"Days until deadline: {(filing_deadline - today).days}\")\n",
    "   ```\n",
    "\n",
    "---\n",
    "\n",
    "### 11. **Fraud Detection and Risk Assessment**\n",
    "   - Analyze transaction timestamps for unusual patterns.\n",
    "   - Detect transactions occurring at abnormal hours.\n",
    "   ```python\n",
    "   from datetime import datetime\n",
    "\n",
    "   transaction_time = datetime(2025, 1, 23, 2, 45)  # 2:45 AM\n",
    "   if transaction_time.hour < 6:\n",
    "       print(\"Unusual transaction timing!\")\n",
    "   ```\n",
    "\n",
    "---\n"
   ]
  },
  {
   "cell_type": "markdown",
   "metadata": {},
   "source": [
    "#"
   ]
  },
  {
   "cell_type": "markdown",
   "metadata": {},
   "source": [
    "<b> The `datetime` module in Python is incredibly versatile and widely used across various domains for handling dates and times.</b>\n",
    "\n",
    "---\n",
    "\n",
    "### 1. **Date and Time Parsing**\n",
    "   Convert strings to `datetime` objects and vice versa for consistent handling of dates and times.\n",
    "   ```python\n",
    "   from datetime import datetime\n",
    "   date_str = \"2023-01-15 10:30:45\"\n",
    "   dt = datetime.strptime(date_str, \"%Y-%m-%d %H:%M:%S\")  # String to datetime\n",
    "   print(dt.strftime(\"%d %B, %Y\"))  # Datetime to formatted string\n",
    "   ```\n",
    "\n",
    "---\n",
    "\n",
    "### 2. **Scheduling and Alarms**\n",
    "   Manage events, reminders, or task scheduling by calculating time intervals.\n",
    "   ```python\n",
    "   from datetime import datetime, timedelta\n",
    "   now = datetime.now()\n",
    "   event_time = now + timedelta(days=5, hours=3)\n",
    "   print(f\"Event is scheduled at: {event_time}\")\n",
    "   ```\n",
    "\n",
    "---\n",
    "\n",
    "### 3. **Time Difference Calculation**\n",
    "   Compute the difference between two dates or times, e.g., for age or elapsed time.\n",
    "   ```python\n",
    "   birth_date = datetime(1990, 12, 5)\n",
    "   today = datetime.now()\n",
    "   age = today - birth_date\n",
    "   print(f\"Age in days: {age.days}\")\n",
    "   ```\n",
    "\n",
    "---\n",
    "\n",
    "### 4. **Logging and Timestamps**\n",
    "   Track events or transactions by adding timestamps in logs.\n",
    "   ```python\n",
    "   from datetime import datetime\n",
    "   log_message = f\"[{datetime.now()}] - Task completed\"\n",
    "   print(log_message)\n",
    "   ```\n",
    "\n",
    "---\n",
    "\n",
    "### 5. **File and Data Organization**\n",
    "   Use timestamps to name files or organize data.\n",
    "   ```python\n",
    "   filename = f\"backup_{datetime.now().strftime('%Y%m%d_%H%M%S')}.zip\"\n",
    "   print(filename)  # Example: backup_20250123_104530.zip\n",
    "   ```\n",
    "\n",
    "---\n",
    "\n",
    "### 6. **Time Zone Management**\n",
    "   Handle time zones using `datetime` (with help from third-party libraries like `pytz` or `zoneinfo`).\n",
    "   ```python\n",
    "   from datetime import datetime, timezone, timedelta\n",
    "   utc_now = datetime.now(timezone.utc)\n",
    "   local_time = utc_now.astimezone(tz=timezone(timedelta(hours=5, minutes=30)))  # IST\n",
    "   print(local_time)\n",
    "   ```\n",
    "\n",
    "---\n",
    "\n",
    "### 7. **Data Analysis**\n",
    "   Analyze data based on time ranges (e.g., group sales by week/month/year).\n",
    "   ```python\n",
    "   sales_data = [\n",
    "       {\"date\": datetime(2023, 1, 1), \"sales\": 100},\n",
    "       {\"date\": datetime(2023, 1, 2), \"sales\": 150},\n",
    "   ]\n",
    "   monthly_sales = sum(item[\"sales\"] for item in sales_data if item[\"date\"].month == 1)\n",
    "   print(f\"Total sales in January: {monthly_sales}\")\n",
    "   ```\n",
    "\n",
    "---\n",
    "\n",
    "### 8. **Date Validation**\n",
    "   Check if a given string represents a valid date or time format.\n",
    "   ```python\n",
    "   try:\n",
    "       datetime.strptime(\"2019-02-29\", \"%Y-%m-%d\")  # Invalid date\n",
    "   except ValueError as e:\n",
    "       print(\"Invalid date:\", e)\n",
    "   ```\n",
    "\n",
    "---\n",
    "\n",
    "### 9. **Countdown Timer**\n",
    "   Measure time remaining for an event or task.\n",
    "   ```python\n",
    "   future_date = datetime(2025, 12, 31)\n",
    "   time_remaining = future_date - datetime.now()\n",
    "   print(f\"Time until event: {time_remaining.days} days and {time_remaining.seconds // 3600} hours\")\n",
    "   ```\n",
    "\n",
    "---\n",
    "\n",
    "### 10. **Simulation and Testing**\n",
    "   Use `datetime` to simulate events over time in testing or simulations.\n",
    "\n",
    "These use cases highlight how the `datetime` module simplifies handling and processing of temporal data."
   ]
  }
 ],
 "metadata": {
  "kernelspec": {
   "display_name": "Python 3",
   "language": "python",
   "name": "python3"
  },
  "language_info": {
   "codemirror_mode": {
    "name": "ipython",
    "version": 3
   },
   "file_extension": ".py",
   "mimetype": "text/x-python",
   "name": "python",
   "nbconvert_exporter": "python",
   "pygments_lexer": "ipython3",
   "version": "3.11.8"
  }
 },
 "nbformat": 4,
 "nbformat_minor": 2
}
