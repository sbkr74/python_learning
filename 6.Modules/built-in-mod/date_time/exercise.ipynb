{
 "cells": [
  {
   "cell_type": "markdown",
   "metadata": {},
   "source": [
    "1. Get the current day, month, year, hour, minute and timestamp from datetime module\n"
   ]
  },
  {
   "cell_type": "code",
   "execution_count": 2,
   "metadata": {},
   "outputs": [
    {
     "name": "stdout",
     "output_type": "stream",
     "text": [
      "2025-01-23 14:28:01.087905\n",
      "23 1 2025 14 28\n",
      "timestamp 1737622681.087905\n",
      "23/1/2025, 14:28\n",
      "2025-01-01 00:00:00\n",
      "1 1 2025 0 0\n",
      "1/1/2025, 0:0\n",
      "time: 14:28:01\n",
      "time one: 01/23/2025, 14:28:01\n",
      "time two: 23/01/2025, 14:28:01\n",
      "date_string = 5 December, 2019\n",
      "date_object = 2019-12-05 00:00:00\n",
      "2020-01-01\n",
      "Current date: 2025-01-23\n",
      "Current year: 2025\n",
      "Current month: 1\n",
      "Current day: 23\n",
      "Time left for new year:  27 days, 0:00:00\n",
      "Time left for new year: 26 days, 23:01:00\n",
      "a = 00:00:00\n",
      "b = 10:30:50\n",
      "c = 10:30:50\n",
      "d = 10:30:50.200555\n",
      "t3 = 86 days, 22:56:50\n",
      "Day: 23\n",
      "Month: 1\n",
      "Year: 2025\n",
      "Hour: 14\n",
      "Minute: 28\n",
      "Timestamp: 1737622681.093611\n"
     ]
    }
   ],
   "source": [
    "from date_time import datetime\n",
    "current = datetime.now()\n",
    "current_day = current.day\n",
    "month = current.month\n",
    "year = current.year\n",
    "hour = current.hour\n",
    "minute = current.minute\n",
    "timest = current.timestamp()\n",
    "\n",
    "print(\"Day:\",current_day)\n",
    "print(\"Month:\",month)\n",
    "print(\"Year:\",year)\n",
    "print(\"Hour:\",hour)\n",
    "print(\"Minute:\",minute)\n",
    "print(\"Timestamp:\",timest)\n",
    "\n"
   ]
  },
  {
   "cell_type": "markdown",
   "metadata": {},
   "source": [
    "2. Format the current date using this format: \"%m/%d/%Y, %H:%M:%S\"\n"
   ]
  },
  {
   "cell_type": "code",
   "execution_count": 3,
   "metadata": {},
   "outputs": [
    {
     "name": "stdout",
     "output_type": "stream",
     "text": [
      "2025-01-23 14:28:01.093611\n",
      "01/23/2025, 14:28:01\n"
     ]
    }
   ],
   "source": [
    "print(current)\n",
    "formatted = current.strftime(\"%m/%d/%Y, %H:%M:%S\")\n",
    "print(formatted)"
   ]
  },
  {
   "cell_type": "markdown",
   "metadata": {},
   "source": [
    "3. Today is 5 December, 2019. Change this time string to time.\n"
   ]
  },
  {
   "cell_type": "code",
   "execution_count": 4,
   "metadata": {},
   "outputs": [
    {
     "name": "stdout",
     "output_type": "stream",
     "text": [
      "2019-12-05 00:00:00\n"
     ]
    }
   ],
   "source": [
    "today = \"5 December 2019\"\n",
    "format_day = datetime.strptime(today,\"%d %B %Y\")\n",
    "print(format_day)\n"
   ]
  },
  {
   "cell_type": "markdown",
   "metadata": {},
   "source": [
    "4. Calculate the time difference between now and new year."
   ]
  },
  {
   "cell_type": "code",
   "execution_count": null,
   "metadata": {},
   "outputs": [],
   "source": []
  },
  {
   "cell_type": "markdown",
   "metadata": {},
   "source": [
    "5. Calculate the time difference between 1 January 1970 and now.\n"
   ]
  },
  {
   "cell_type": "code",
   "execution_count": null,
   "metadata": {},
   "outputs": [],
   "source": []
  },
  {
   "cell_type": "markdown",
   "metadata": {},
   "source": [
    "6. Think, what can you use the datetime module for? Examples:\n",
    "   - Time series analysis\n",
    "   - To get a timestamp of any activities in an application\n",
    "   - Adding posts on a blog "
   ]
  }
 ],
 "metadata": {
  "kernelspec": {
   "display_name": "Python 3",
   "language": "python",
   "name": "python3"
  },
  "language_info": {
   "codemirror_mode": {
    "name": "ipython",
    "version": 3
   },
   "file_extension": ".py",
   "mimetype": "text/x-python",
   "name": "python",
   "nbconvert_exporter": "python",
   "pygments_lexer": "ipython3",
   "version": "3.11.8"
  }
 },
 "nbformat": 4,
 "nbformat_minor": 2
}
