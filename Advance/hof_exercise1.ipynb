{
 "cells": [
  {
   "cell_type": "markdown",
   "metadata": {},
   "source": [
    "### Exercises: Level 1\n",
    "\n",
    "1. Explain the difference between map, filter, and reduce."
   ]
  },
  {
   "cell_type": "markdown",
   "metadata": {},
   "source": [
    "`According to my Point of View`\n",
    "- Map: The map() function is used to apply a given function to every item of an iterable, such as a list or tuple, and returns a map object (which is an iterator [list, tuple, etc.]).  \n",
    "By default, the map() function returns a map object, which is an iterator. In many cases, we will need to convert this iterator to a list to work with the results directly.\n",
    "\n",
    "- Filter: The filter() function in Python filters elements from an iterable (like a list) based on a function (or None for truthy values). It returns an iterator that yields those elements for which the function returns True.\n",
    "\n",
    "- Reduce: The reduce function is used to apply a particular function passed in its argument to all of the list elements mentioned in the sequence passed along.This function is defined in “functools” module.  \n",
    "Applies a function to the items of an iterable, cumulatively, from left to right, so as to reduce the iterable to a single value. "
   ]
  },
  {
   "cell_type": "markdown",
   "metadata": {},
   "source": [
    "2. Explain the difference between higher order function, closure and decorator"
   ]
  },
  {
   "cell_type": "markdown",
   "metadata": {},
   "source": [
    "Here's a simple explanation of the differences between **higher-order functions**, **closures**, and **decorators**:\n",
    "\n",
    "---\n",
    "\n",
    "### **1. Higher-Order Function**\n",
    "A **higher-order function** is a function that:\n",
    "1. Takes one or more functions as arguments.\n",
    "2. Returns a function as its result.\n",
    "\n",
    "#### Examples:\n",
    "- **`map()`, `filter()`, `reduce()`** are higher-order functions.\n",
    "- You can also define your own.\n",
    "\n",
    "\n",
    "**Key Points**:\n",
    "- It operates on or produces other functions.\n",
    "- The focus is on how it **uses functions as inputs or outputs**.\n",
    "\n",
    "---\n",
    "\n",
    "### **2. Closure**\n",
    "A **closure** is a function that **remembers the variables from its enclosing scope**, even after that scope has finished executing. This allows the function to \"close over\" those variables.\n",
    "\n",
    "\n",
    "\n",
    "**Key Points**:\n",
    "- It involves **capturing and storing the state of variables** from an outer function.\n",
    "- Enables creating stateful functions.\n",
    "\n",
    "---\n",
    "\n",
    "### **3. Decorator**\n",
    "A **decorator** is a specific use of a higher-order function to **modify or extend the behavior of another function or class**, often without explicitly modifying its code.\n",
    "\n",
    "\n",
    "**Key Points**:\n",
    "- Decorators are **syntactic sugar** for wrapping functions.\n",
    "- Often used for logging, enforcing access control, measuring execution time, etc.\n",
    "\n",
    "---\n",
    "\n",
    "### **Comparison Summary**\n",
    "\n",
    "| Feature             | **Higher-Order Function**                   | **Closure**                       | **Decorator**                    |\n",
    "|---------------------|---------------------------------------------|------------------------------------|-----------------------------------|\n",
    "| **Definition**      | Operates on or returns other functions.     | Captures variables from outer scope. | A specific higher-order function to modify behavior. |\n",
    "| **Purpose**         | Functional programming.                    | Encapsulate state or behavior.    | Modify/enhance another function. |\n",
    "| **Example**         | `map`, `filter`, custom HOFs.              | Stateful multipliers, counters.   | `@decorator` syntax for wrapping. |\n",
    "\n"
   ]
  },
  {
   "cell_type": "markdown",
   "metadata": {},
   "source": [
    "#### Example: Higher Order Functions (HOF)\n",
    "```python\n",
    "def apply_twice(func, x):\n",
    "    return func(func(x))\n",
    "\n",
    "def square(n):\n",
    "    return n * n\n",
    "\n",
    "print(apply_twice(square, 2))  # Output: 16\n",
    "```\n",
    "\n",
    "#### Example: Closure\n",
    "```python\n",
    "def multiplier(factor):\n",
    "    def multiply(number):\n",
    "        return number * factor  # 'factor' is remembered\n",
    "    return multiply\n",
    "\n",
    "double = multiplier(2)  # 'factor' is 2\n",
    "print(double(5))  # Output: 10\n",
    "```\n",
    "\n",
    "#### Example: Decorators\n",
    "```python\n",
    "def greet_decorator(func):\n",
    "    def wrapper():\n",
    "        print(\"Hello!\")\n",
    "        func()\n",
    "        print(\"Goodbye!\")\n",
    "    return wrapper\n",
    "\n",
    "@greet_decorator\n",
    "def greet():\n",
    "    print(\"How are you?\")\n",
    "\n",
    "greet()\n",
    "# Output:\n",
    "# Hello!\n",
    "# How are you?\n",
    "# Goodbye!\n",
    "```\n"
   ]
  },
  {
   "cell_type": "markdown",
   "metadata": {},
   "source": [
    "3. Define a call function before map, filter or reduce, see examples."
   ]
  },
  {
   "cell_type": "code",
   "execution_count": null,
   "metadata": {},
   "outputs": [],
   "source": [
    "from functools import reduce\n",
    "# calling function to be used with map\n",
    "def square(x):\n",
    "    return x ** 2\n",
    "\n",
    "# Example usage with map\n",
    "numbers = [1, 2, 3, 4, 5]\n",
    "squared_numbers = list(map(square, numbers))\n",
    "print(squared_numbers)  # Output: [1, 4, 9, 16, 25]\n",
    "\n",
    "# calling function to be used with filter\n",
    "def is_even(x):\n",
    "    return x % 2 == 0\n",
    "\n",
    "# Example usage with filter\n",
    "numbers = [1, 2, 3, 4, 5]\n",
    "even_numbers = list(filter(is_even, numbers))\n",
    "print(even_numbers)  # Output: [2, 4]\n",
    "\n",
    "\n",
    "\n",
    "# calling  function to be used with reduce\n",
    "def add(x, y):\n",
    "    return x + y\n",
    "\n",
    "# Example usage with reduce\n",
    "numbers = [1, 2, 3, 4, 5]\n",
    "sum_of_numbers = reduce(add, numbers)\n",
    "print(sum_of_numbers)  # Output: 15\n",
    "\n"
   ]
  },
  {
   "cell_type": "markdown",
   "metadata": {},
   "source": [
    "```py\n",
    "countries = ['Estonia', 'Finland', 'Sweden', 'Denmark', 'Norway', 'Iceland']\n",
    "names = ['Asabeneh', 'Lidiya', 'Ermias', 'Abraham']\n",
    "numbers = [1, 2, 3, 4, 5, 6, 7, 8, 9, 10]\n",
    "```"
   ]
  },
  {
   "cell_type": "markdown",
   "metadata": {},
   "source": [
    "4. Use for loop to print each country in the countries list."
   ]
  },
  {
   "cell_type": "code",
   "execution_count": null,
   "metadata": {},
   "outputs": [],
   "source": [
    "countries = ['Estonia', 'Finland', 'Sweden', 'Denmark', 'Norway', 'Iceland']\n",
    "for item in countries:\n",
    "    print(item)"
   ]
  },
  {
   "cell_type": "markdown",
   "metadata": {},
   "source": [
    "5. Use for to print each name in the names list."
   ]
  },
  {
   "cell_type": "code",
   "execution_count": null,
   "metadata": {},
   "outputs": [],
   "source": [
    "names = ['Asabeneh', 'Lidiya', 'Ermias', 'Abraham']\n",
    "for name in names:\n",
    "    print(name)"
   ]
  },
  {
   "cell_type": "markdown",
   "metadata": {},
   "source": [
    "6. Use for to print each number in the numbers list."
   ]
  },
  {
   "cell_type": "code",
   "execution_count": null,
   "metadata": {},
   "outputs": [],
   "source": [
    "numbers = [1, 2, 3, 4, 5, 6, 7, 8, 9, 10]\n",
    "for num in numbers:\n",
    "    print(num)"
   ]
  }
 ],
 "metadata": {
  "kernelspec": {
   "display_name": "Python 3",
   "language": "python",
   "name": "python3"
  },
  "language_info": {
   "codemirror_mode": {
    "name": "ipython",
    "version": 3
   },
   "file_extension": ".py",
   "mimetype": "text/x-python",
   "name": "python",
   "nbconvert_exporter": "python",
   "pygments_lexer": "ipython3",
   "version": "3.11.8"
  }
 },
 "nbformat": 4,
 "nbformat_minor": 2
}
