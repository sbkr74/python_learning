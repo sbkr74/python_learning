{
 "cells": [
  {
   "cell_type": "markdown",
   "metadata": {},
   "source": [
    "### Exercises: Level 2\n",
    "\n",
    "1. Use map to create a new list by changing each country to uppercase in the countries list\n",
    "1. Use map to create a new list by changing each number to its square in the numbers list\n",
    "1. Use map to change each name to uppercase in the names list\n",
    "1. Use filter to filter out countries containing 'land'.\n",
    "1. Use filter to filter out countries having exactly six characters.\n",
    "1. Use filter to filter out countries containing six letters and more in the country list.\n",
    "1. Use filter to filter out countries starting with an 'E'\n",
    "1. Chain two or more list iterators (eg. arr.map(callback).filter(callback).reduce(callback))\n",
    "1. Declare a function called get_string_lists which takes a list as a parameter and then returns a list containing only string items.\n",
    "1. Use reduce to sum all the numbers in the numbers list.\n",
    "1. Use reduce to concatenate all the countries and to produce this sentence: Estonia, Finland, Sweden, Denmark, Norway, and Iceland are north European countries\n",
    "1. Declare a function called categorize_countries that returns a list of countries with some common pattern (you can find the [countries list](https://github.com/Asabeneh/30-Days-Of-Python/blob/master/data/countries.py) in this repository as countries.js(eg 'land', 'ia', 'island', 'stan')).\n",
    "1. Create a function returning a dictionary, where keys stand for starting letters of countries and values are the number of country names starting with that letter.\n",
    "2. Declare a get_first_ten_countries function - it returns a list of first ten countries from the countries.js list in the data folder.\n",
    "1. Declare a get_last_ten_countries function that returns the last ten countries in the countries list."
   ]
  }
 ],
 "metadata": {
  "kernelspec": {
   "display_name": "Python 3",
   "language": "python",
   "name": "python3"
  },
  "language_info": {
   "name": "python",
   "version": "3.11.8"
  }
 },
 "nbformat": 4,
 "nbformat_minor": 2
}
