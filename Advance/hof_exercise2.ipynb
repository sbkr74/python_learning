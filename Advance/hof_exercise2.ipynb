{
 "cells": [
  {
   "cell_type": "markdown",
   "metadata": {},
   "source": [
    "### Exercises: Level 2\n",
    "\n",
    "1. Use map to create a new list by changing each country to uppercase in the countries list\n",
    "1. Use map to create a new list by changing each number to its square in the numbers list\n",
    "1. Use map to change each name to uppercase in the names list\n",
    "1. Use filter to filter out countries containing 'land'.\n",
    "1. Use filter to filter out countries having exactly six characters.\n",
    "1. Use filter to filter out countries containing six letters and more in the country list.\n",
    "1. Use filter to filter out countries starting with an 'E'\n",
    "1. Chain two or more list iterators (eg. arr.map(callback).filter(callback).reduce(callback))\n",
    "1. Declare a function called get_string_lists which takes a list as a parameter and then returns a list containing only string items.\n",
    "1. Use reduce to sum all the numbers in the numbers list.\n",
    "1. Use reduce to concatenate all the countries and to produce this sentence: Estonia, Finland, Sweden, Denmark, Norway, and Iceland are north European countries\n",
    "1. Declare a function called categorize_countries that returns a list of countries with some common pattern (you can find the [countries list](https://github.com/Asabeneh/30-Days-Of-Python/blob/master/data/countries.py) in this repository as countries.js(eg 'land', 'ia', 'island', 'stan')).\n",
    "1. Create a function returning a dictionary, where keys stand for starting letters of countries and values are the number of country names starting with that letter.\n",
    "2. Declare a get_first_ten_countries function - it returns a list of first ten countries from the countries.js list in the data folder.\n",
    "1. Declare a get_last_ten_countries function that returns the last ten countries in the countries list."
   ]
  },
  {
   "cell_type": "code",
   "execution_count": null,
   "metadata": {},
   "outputs": [],
   "source": [
    "# Question 1:\n",
    "countries = ['Estonia', 'Finland', 'Sweden', 'Denmark', 'Norway', 'Iceland']\n",
    "def uppercase(ele):\n",
    "    return ele.upper()\n",
    "\n",
    "con_upper = list(map(uppercase,countries))\n",
    "print(con_upper)"
   ]
  },
  {
   "cell_type": "code",
   "execution_count": null,
   "metadata": {},
   "outputs": [],
   "source": [
    "# Question 2:\n",
    "numbers = [1, 2, 3, 4, 5, 6, 7, 8, 9, 10]\n",
    "def square(num):\n",
    "    return num**2\n",
    "\n",
    "sq_num = list(map(square,numbers))\n",
    "print(sq_num)"
   ]
  },
  {
   "cell_type": "code",
   "execution_count": null,
   "metadata": {},
   "outputs": [],
   "source": [
    "# Question 3:\n",
    "names = ['Asabeneh', 'Lidiya', 'Ermias', 'Abraham']\n",
    "\n",
    "upper_name = list(map(uppercase,names))\n",
    "print(upper_name)"
   ]
  },
  {
   "cell_type": "code",
   "execution_count": null,
   "metadata": {},
   "outputs": [],
   "source": [
    "# Question 4:\n",
    "def land_check(con):\n",
    "    # if con.endswith('land'):\n",
    "    if 'land' in con:\n",
    "        return True\n",
    "    return False\n",
    "countries = ['Estonia', 'Finland', 'Sweden', 'Denmark', 'Norway', 'Iceland']\n",
    "con_land = filter(land_check,countries)\n",
    "print(list(con_land))"
   ]
  },
  {
   "cell_type": "code",
   "execution_count": null,
   "metadata": {},
   "outputs": [],
   "source": [
    "# Question 5:\n",
    "def six_char_countries(con):\n",
    "    if len(con) == 6:\n",
    "        return True\n",
    "    return False\n",
    "countries = ['Estonia', 'Finland', 'Sweden', 'Denmark', 'Norway', 'Iceland']\n",
    "cont_six_chr = list(filter(six_char_countries,countries))\n",
    "print(cont_six_chr)"
   ]
  },
  {
   "cell_type": "code",
   "execution_count": null,
   "metadata": {},
   "outputs": [],
   "source": [
    "# Question 6:\n",
    "def six_more_chars(con):\n",
    "    if len(con) >= 6:\n",
    "        return True\n",
    "    return False\n",
    "countries = ['Estonia', 'Finland', 'Sweden', 'Denmark', 'Norway', 'Iceland']\n",
    "cont_six_chr_more = list(filter(six_more_chars,countries))\n",
    "print(cont_six_chr_more)"
   ]
  },
  {
   "cell_type": "code",
   "execution_count": null,
   "metadata": {},
   "outputs": [],
   "source": [
    "# Question 7:\n",
    "def starts(con):\n",
    "    if con.startswith('E'):\n",
    "        return True\n",
    "    return False\n",
    "\n",
    "contry_begins = list(filter(starts,countries))\n",
    "print(contry_begins)"
   ]
  },
  {
   "cell_type": "code",
   "execution_count": null,
   "metadata": {},
   "outputs": [],
   "source": [
    "# Question 8:\n",
    "def even(num):\n",
    "    if num%2 == 0:\n",
    "        return True\n",
    "    return False\n",
    "sq_list = list(map(square,numbers))\n",
    "even_filter = list(filter(even,sq_list))\n",
    "print(even_filter)"
   ]
  },
  {
   "cell_type": "code",
   "execution_count": null,
   "metadata": {},
   "outputs": [],
   "source": [
    "# Question 8: Another approach\n",
    "from functools import reduce\n",
    "\n",
    "# Define callback function to filter out odd numbers\n",
    "def is_even(n):\n",
    "    return n % 2 == 0\n",
    "\n",
    "# Define callback function to square numbers\n",
    "def square(n):\n",
    "    return n ** 2\n",
    "\n",
    "# Define callback function to sum numbers\n",
    "def sum_numbers(x, y):\n",
    "    return x + y\n",
    "\n",
    "numbers = [1, 2, 3, 4, 5, 6, 7, 8, 9, 10]\n",
    "# Chaining the operations\n",
    "result = reduce(sum_numbers, map(square, filter(is_even, numbers)))\n",
    "\n",
    "print(result)  # Output: 220\n"
   ]
  },
  {
   "cell_type": "code",
   "execution_count": null,
   "metadata": {},
   "outputs": [],
   "source": [
    "# Question 9:\n",
    "def get_string_list(usr_list:list):\n",
    "    new_list = []\n",
    "    for item in usr_list:\n",
    "        if isinstance(item,str):\n",
    "            new_list.append(item)\n",
    "    return new_list\n",
    "\n",
    "countries = ['Estonia', 'Finland', 'Sweden', 'Denmark', 'Norway', 'Iceland']\n",
    "print(get_string_list(countries))"
   ]
  },
  {
   "cell_type": "code",
   "execution_count": null,
   "metadata": {},
   "outputs": [],
   "source": [
    "# Question 9: Filter approach\n",
    "def get_string_list_filter(usr_list:list):\n",
    "    if isinstance(usr_list,str):\n",
    "        return True\n",
    "    return False\n",
    "countries = ['Estonia', 'Finland', 'Sweden', 'Denmark', 'Norway', 'Iceland',122,3,2]\n",
    "print(list(filter(get_string_list_filter,countries)))"
   ]
  },
  {
   "cell_type": "code",
   "execution_count": null,
   "metadata": {},
   "outputs": [],
   "source": [
    "# Question 10:\n",
    "from functools import reduce\n",
    "def add(x,y):\n",
    "    return x+y\n",
    "numbers = [1, 2, 3, 4, 5, 6, 7, 8, 9, 10]\n",
    "Total = reduce(add,numbers)\n",
    "print(Total)"
   ]
  },
  {
   "cell_type": "code",
   "execution_count": null,
   "metadata": {},
   "outputs": [],
   "source": [
    "# Question 11:\n",
    "def concatination_of_list_items(x:str,y:str):\n",
    "    return x+\", \"+y\n",
    "countries = ['Estonia', 'Finland', 'Sweden', 'Denmark', 'Norway', 'Iceland']\n",
    "concat_string = reduce(concatination_of_list_items,countries)\n",
    "print(concat_string, \"are European countries\")"
   ]
  },
  {
   "cell_type": "code",
   "execution_count": null,
   "metadata": {},
   "outputs": [],
   "source": [
    "# Question 12:\n",
    "import json\n",
    "with open(r\"D:\\Learning\\python_learning\\Data\\countries.py\",\"r\") as file:\n",
    "     x = file.read()\n",
    "exec(x)\n",
    "countries_file = locals()['countries']\n",
    "for i in countries_file:\n",
    "     if i.endswith(\"land\") or i.endswith(\"island\") or i.endswith(\"ia\") or i.endswith(\"land\"):\n",
    "          print(i)"
   ]
  },
  {
   "cell_type": "code",
   "execution_count": null,
   "metadata": {},
   "outputs": [],
   "source": [
    "# Question 12:\n",
    "def categorize_countries(i):\n",
    "    if i.endswith(\"land\") or i.endswith(\"island\") or i.endswith(\"ia\") or i.endswith(\"land\"):\n",
    "        return True\n",
    "    return False\n",
    "\n",
    "result = list(filter(categorize_countries,countries_file))\n",
    "print(result)"
   ]
  },
  {
   "cell_type": "markdown",
   "metadata": {},
   "source": [
    "13. Create a function returning a dictionary, where keys stand for starting letters of countries and values are the number of country names starting with that letter."
   ]
  },
  {
   "cell_type": "code",
   "execution_count": null,
   "metadata": {},
   "outputs": [],
   "source": [
    "# Question 13:\n",
    "new_dict = {}\n",
    "for i in countries_file:\n",
    "    key = i[0]\n",
    "    val = i\n",
    "    if key in new_dict:\n",
    "        new_dict[key].append(val)\n",
    "    else:\n",
    "        new_dict[key] = [val]\n",
    "print(new_dict)\n"
   ]
  },
  {
   "cell_type": "code",
   "execution_count": null,
   "metadata": {},
   "outputs": [],
   "source": [
    "# Question 13: reduce\n",
    "from functools import reduce\n",
    "\n",
    "def reducer(acc, i):\n",
    "    key = i[0]\n",
    "    val = i\n",
    "    if key in acc:\n",
    "        acc[key].append(val)\n",
    "    else:\n",
    "        acc[key] = [val]\n",
    "    return acc\n",
    "\n",
    "new_dict = reduce(reducer, countries_file, {})\n",
    "print(new_dict)\n"
   ]
  },
  {
   "cell_type": "code",
   "execution_count": null,
   "metadata": {},
   "outputs": [],
   "source": [
    "# Question 14:\n",
    "def get_first_ten_countries(con):\n",
    "    first_ten_countries = []\n",
    "    for i in range(10):\n",
    "        first_ten_countries.append(con[i])\n",
    "    return first_ten_countries\n",
    "\n",
    "print(get_first_ten_countries(countries_file))"
   ]
  },
  {
   "cell_type": "code",
   "execution_count": null,
   "metadata": {},
   "outputs": [],
   "source": [
    "print(countries_file[:10])"
   ]
  },
  {
   "cell_type": "code",
   "execution_count": null,
   "metadata": {},
   "outputs": [],
   "source": [
    "def first_ten(con):\n",
    "    n = 10\n",
    "    return list(filter(lambda x:con.index(x)<n,con))\n",
    "\n",
    "print(first_ten(countries_file))"
   ]
  },
  {
   "cell_type": "code",
   "execution_count": null,
   "metadata": {},
   "outputs": [],
   "source": [
    "def first_ten_con(con):\n",
    "    n =10\n",
    "    return countries_file.index(con)<n\n",
    "\n",
    "print(list(filter(first_ten_con,countries_file)))"
   ]
  },
  {
   "cell_type": "code",
   "execution_count": null,
   "metadata": {},
   "outputs": [],
   "source": [
    "# Question 15:\n",
    "def get_last_ten_countries(con):\n",
    "    last_ten_countries = []\n",
    "    con_len = len(con)-1\n",
    "    for i in range(con_len,con_len-10,-1):\n",
    "        last_ten_countries.append(con[i])\n",
    "    return last_ten_countries\n",
    "\n",
    "print(get_last_ten_countries(countries_file))"
   ]
  },
  {
   "cell_type": "code",
   "execution_count": 29,
   "metadata": {},
   "outputs": [
    {
     "name": "stdout",
     "output_type": "stream",
     "text": [
      "['Zimbabwe', 'Zambia', 'Yemen', 'Vietnam', 'Venezuela', 'Vatican City', 'Vanuatu', 'Uzbekistan', 'Uruguay', 'United States']\n"
     ]
    }
   ],
   "source": [
    "\n",
    "size = len(countries_file)\n",
    "print(countries_file[size-1:size-11:-1])"
   ]
  },
  {
   "cell_type": "code",
   "execution_count": 30,
   "metadata": {},
   "outputs": [
    {
     "name": "stdout",
     "output_type": "stream",
     "text": [
      "['United States', 'Uruguay', 'Uzbekistan', 'Vanuatu', 'Vatican City', 'Venezuela', 'Vietnam', 'Yemen', 'Zambia', 'Zimbabwe']\n"
     ]
    }
   ],
   "source": [
    "print(countries_file[-10:])"
   ]
  },
  {
   "cell_type": "code",
   "execution_count": 28,
   "metadata": {},
   "outputs": [
    {
     "name": "stdout",
     "output_type": "stream",
     "text": [
      "['United States', 'Uruguay', 'Uzbekistan', 'Vanuatu', 'Vatican City', 'Venezuela', 'Vietnam', 'Yemen', 'Zambia', 'Zimbabwe']\n"
     ]
    }
   ],
   "source": [
    "def last_10(con):\n",
    "    n = len(countries_file)-11\n",
    "    return countries_file.index(con)>n\n",
    "\n",
    "last_ten_con = list(filter(last_10,countries_file))\n",
    "print(last_ten_con)        "
   ]
  }
 ],
 "metadata": {
  "kernelspec": {
   "display_name": "Python 3",
   "language": "python",
   "name": "python3"
  },
  "language_info": {
   "codemirror_mode": {
    "name": "ipython",
    "version": 3
   },
   "file_extension": ".py",
   "mimetype": "text/x-python",
   "name": "python",
   "nbconvert_exporter": "python",
   "pygments_lexer": "ipython3",
   "version": "3.11.8"
  }
 },
 "nbformat": 4,
 "nbformat_minor": 2
}
