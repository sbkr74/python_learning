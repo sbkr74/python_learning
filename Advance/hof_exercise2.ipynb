{
 "cells": [
  {
   "cell_type": "markdown",
   "metadata": {},
   "source": [
    "### Exercises: Level 2\n",
    "\n",
    "1. Use map to create a new list by changing each country to uppercase in the countries list\n",
    "1. Use map to create a new list by changing each number to its square in the numbers list\n",
    "1. Use map to change each name to uppercase in the names list\n",
    "1. Use filter to filter out countries containing 'land'.\n",
    "1. Use filter to filter out countries having exactly six characters.\n",
    "1. Use filter to filter out countries containing six letters and more in the country list.\n",
    "1. Use filter to filter out countries starting with an 'E'\n",
    "1. Chain two or more list iterators (eg. arr.map(callback).filter(callback).reduce(callback))\n",
    "1. Declare a function called get_string_lists which takes a list as a parameter and then returns a list containing only string items.\n",
    "1. Use reduce to sum all the numbers in the numbers list.\n",
    "1. Use reduce to concatenate all the countries and to produce this sentence: Estonia, Finland, Sweden, Denmark, Norway, and Iceland are north European countries\n",
    "1. Declare a function called categorize_countries that returns a list of countries with some common pattern (you can find the [countries list](https://github.com/Asabeneh/30-Days-Of-Python/blob/master/data/countries.py) in this repository as countries.js(eg 'land', 'ia', 'island', 'stan')).\n",
    "1. Create a function returning a dictionary, where keys stand for starting letters of countries and values are the number of country names starting with that letter.\n",
    "2. Declare a get_first_ten_countries function - it returns a list of first ten countries from the countries.js list in the data folder.\n",
    "1. Declare a get_last_ten_countries function that returns the last ten countries in the countries list."
   ]
  },
  {
   "cell_type": "code",
   "execution_count": null,
   "metadata": {},
   "outputs": [],
   "source": [
    "# Question 1:\n",
    "countries = ['Estonia', 'Finland', 'Sweden', 'Denmark', 'Norway', 'Iceland']\n",
    "def uppercase(ele):\n",
    "    return ele.upper()\n",
    "\n",
    "con_upper = list(map(uppercase,countries))\n",
    "print(con_upper)"
   ]
  },
  {
   "cell_type": "code",
   "execution_count": null,
   "metadata": {},
   "outputs": [],
   "source": [
    "# Question 2:\n",
    "numbers = [1, 2, 3, 4, 5, 6, 7, 8, 9, 10]\n",
    "def square(num):\n",
    "    return num**2\n",
    "\n",
    "sq_num = list(map(square,numbers))\n",
    "print(sq_num)"
   ]
  },
  {
   "cell_type": "code",
   "execution_count": null,
   "metadata": {},
   "outputs": [],
   "source": [
    "# Question 3:\n",
    "names = ['Asabeneh', 'Lidiya', 'Ermias', 'Abraham']\n",
    "\n",
    "upper_name = list(map(uppercase,names))\n",
    "print(upper_name)"
   ]
  },
  {
   "cell_type": "code",
   "execution_count": null,
   "metadata": {},
   "outputs": [],
   "source": [
    "# Question 4:\n",
    "def land_check(con):\n",
    "    # if con.endswith('land'):\n",
    "    if 'land' in con:\n",
    "        return True\n",
    "    return False\n",
    "countries = ['Estonia', 'Finland', 'Sweden', 'Denmark', 'Norway', 'Iceland']\n",
    "con_land = filter(land_check,countries)\n",
    "print(list(con_land))"
   ]
  },
  {
   "cell_type": "code",
   "execution_count": null,
   "metadata": {},
   "outputs": [],
   "source": [
    "# Question 5:\n",
    "def six_char_countries(con):\n",
    "    if len(con) == 6:\n",
    "        return True\n",
    "    return False\n",
    "countries = ['Estonia', 'Finland', 'Sweden', 'Denmark', 'Norway', 'Iceland']\n",
    "cont_six_chr = list(filter(six_char_countries,countries))\n",
    "print(cont_six_chr)"
   ]
  },
  {
   "cell_type": "code",
   "execution_count": null,
   "metadata": {},
   "outputs": [],
   "source": [
    "# Question 6:\n",
    "def six_more_chars(con):\n",
    "    if len(con) >= 6:\n",
    "        return True\n",
    "    return False\n",
    "countries = ['Estonia', 'Finland', 'Sweden', 'Denmark', 'Norway', 'Iceland']\n",
    "cont_six_chr_more = list(filter(six_more_chars,countries))\n",
    "print(cont_six_chr_more)"
   ]
  },
  {
   "cell_type": "code",
   "execution_count": null,
   "metadata": {},
   "outputs": [],
   "source": [
    "# Question 7:\n",
    "def starts(con):\n",
    "    if con.startswith('E'):\n",
    "        return True\n",
    "    return False\n",
    "\n",
    "contry_begins = list(filter(starts,countries))\n",
    "print(contry_begins)"
   ]
  },
  {
   "cell_type": "code",
   "execution_count": null,
   "metadata": {},
   "outputs": [],
   "source": [
    "# Question 8:\n",
    "def even(num):\n",
    "    if num%2 == 0:\n",
    "        return True\n",
    "    return False\n",
    "sq_list = list(map(square,numbers))\n",
    "even_filter = list(filter(even,sq_list))\n",
    "print(even_filter)"
   ]
  },
  {
   "cell_type": "code",
   "execution_count": null,
   "metadata": {},
   "outputs": [],
   "source": [
    "# Question 8: Another approach\n",
    "from functools import reduce\n",
    "\n",
    "# Define callback function to filter out odd numbers\n",
    "def is_even(n):\n",
    "    return n % 2 == 0\n",
    "\n",
    "# Define callback function to square numbers\n",
    "def square(n):\n",
    "    return n ** 2\n",
    "\n",
    "# Define callback function to sum numbers\n",
    "def sum_numbers(x, y):\n",
    "    return x + y\n",
    "\n",
    "numbers = [1, 2, 3, 4, 5, 6, 7, 8, 9, 10]\n",
    "# Chaining the operations\n",
    "result = reduce(sum_numbers, map(square, filter(is_even, numbers)))\n",
    "\n",
    "print(result)  # Output: 220\n"
   ]
  },
  {
   "cell_type": "code",
   "execution_count": null,
   "metadata": {},
   "outputs": [],
   "source": [
    "# Question 9:\n",
    "def get_string_list(usr_list:list):\n",
    "    new_list = []\n",
    "    for item in usr_list:\n",
    "        if isinstance(item,str):\n",
    "            new_list.append(item)\n",
    "    return new_list\n",
    "\n",
    "countries = ['Estonia', 'Finland', 'Sweden', 'Denmark', 'Norway', 'Iceland']\n",
    "print(get_string_list(countries))"
   ]
  },
  {
   "cell_type": "code",
   "execution_count": null,
   "metadata": {},
   "outputs": [],
   "source": [
    "# Question 9: Filter approach\n",
    "def get_string_list_filter(usr_list:list):\n",
    "    if isinstance(usr_list,str):\n",
    "        return True\n",
    "    return False\n",
    "countries = ['Estonia', 'Finland', 'Sweden', 'Denmark', 'Norway', 'Iceland',122,3,2]\n",
    "print(list(filter(get_string_list_filter,countries)))"
   ]
  },
  {
   "cell_type": "code",
   "execution_count": null,
   "metadata": {},
   "outputs": [],
   "source": [
    "# Question 10:\n",
    "from functools import reduce\n",
    "def add(x,y):\n",
    "    return x+y\n",
    "numbers = [1, 2, 3, 4, 5, 6, 7, 8, 9, 10]\n",
    "Total = reduce(add,numbers)\n",
    "print(Total)"
   ]
  },
  {
   "cell_type": "code",
   "execution_count": null,
   "metadata": {},
   "outputs": [],
   "source": [
    "# Question 11:\n",
    "def concatination_of_list_items(x:str,y:str):\n",
    "    return x+\", \"+y\n",
    "countries = ['Estonia', 'Finland', 'Sweden', 'Denmark', 'Norway', 'Iceland']\n",
    "concat_string = reduce(concatination_of_list_items,countries)\n",
    "print(concat_string, \"are European countries\")"
   ]
  },
  {
   "cell_type": "code",
   "execution_count": null,
   "metadata": {},
   "outputs": [],
   "source": [
    "# Question 12:\n",
    "import json\n",
    "with open(r\"D:\\Learning\\python_learning\\Data\\countries.py\",\"r\") as file:\n",
    "     x = file.read()\n",
    "exec(x)\n",
    "countries_file = locals()['countries']\n",
    "for i in countries_file:\n",
    "     if i.endswith(\"land\") or i.endswith(\"island\") or i.endswith(\"ia\") or i.endswith(\"land\"):\n",
    "          print(i)"
   ]
  },
  {
   "cell_type": "code",
   "execution_count": null,
   "metadata": {},
   "outputs": [],
   "source": [
    "# Question 12:\n",
    "def categorize_countries(i):\n",
    "    if i.endswith(\"land\") or i.endswith(\"island\") or i.endswith(\"ia\") or i.endswith(\"land\"):\n",
    "        return True\n",
    "    return False\n",
    "\n",
    "result = list(filter(categorize_countries,countries_file))\n",
    "print(result)"
   ]
  },
  {
   "cell_type": "markdown",
   "metadata": {},
   "source": [
    "13. Create a function returning a dictionary, where keys stand for starting letters of countries and values are the number of country names starting with that letter."
   ]
  },
  {
   "cell_type": "code",
   "execution_count": 48,
   "metadata": {},
   "outputs": [
    {
     "name": "stdout",
     "output_type": "stream",
     "text": [
      "{'A1': 'Afghanistan', 'A2': 'Albania', 'A3': 'Algeria', 'A4': 'Andorra', 'A5': 'Angola', 'A6': 'Antigua and Barbuda', 'A7': 'Argentina', 'A8': 'Armenia', 'A9': 'Australia', 'A10': 'Austria', 'A11': 'Azerbaijan', 'B12': 'Bahamas', 'B13': 'Bahrain', 'B14': 'Bangladesh', 'B15': 'Barbados', 'B16': 'Belarus', 'B17': 'Belgium', 'B18': 'Belize', 'B19': 'Benin', 'B20': 'Bhutan', 'B21': 'Bolivia', 'B22': 'Bosnia and Herzegovina', 'B23': 'Botswana', 'B24': 'Brazil', 'B25': 'Brunei', 'B26': 'Bulgaria', 'B27': 'Burkina Faso', 'B28': 'Burundi', 'C29': 'Cambodia', 'C30': 'Cameroon', 'C31': 'Canada', 'C32': 'Cape Verde', 'C33': 'Central African Republic', 'C34': 'Chad', 'C35': 'Chile', 'C36': 'China', 'C37': 'Colombi', 'C38': 'Comoros', 'C39': 'Congo (Brazzaville)', 'C40': 'Congo', 'C41': 'Costa Rica', 'C42': \"Cote d'Ivoire\", 'C43': 'Croatia', 'C44': 'Cuba', 'C45': 'Cyprus', 'C46': 'Czech Republic', 'D47': 'Denmark', 'D48': 'Djibouti', 'D49': 'Dominica', 'D50': 'Dominican Republic', 'E51': 'East Timor (Timor Timur)', 'E52': 'Ecuador', 'E53': 'Egypt', 'E54': 'El Salvador', 'E55': 'Equatorial Guinea', 'E56': 'Eritrea', 'E57': 'Estonia', 'E58': 'Ethiopia', 'F59': 'Fiji', 'F60': 'Finland', 'F61': 'France', 'G62': 'Gabon', 'G63': 'Gambia, The', 'G64': 'Georgia', 'G65': 'Germany', 'G66': 'Ghana', 'G67': 'Greece', 'G68': 'Grenada', 'G69': 'Guatemala', 'G70': 'Guinea', 'G71': 'Guinea-Bissau', 'G72': 'Guyana', 'H73': 'Haiti', 'H74': 'Honduras', 'H75': 'Hungary', 'I76': 'Iceland', 'I77': 'India', 'I78': 'Indonesia', 'I79': 'Iran', 'I80': 'Iraq', 'I81': 'Ireland', 'I82': 'Israel', 'I83': 'Italy', 'J84': 'Jamaica', 'J85': 'Japan', 'J86': 'Jordan', 'K87': 'Kazakhstan', 'K88': 'Kenya', 'K89': 'Kiribati', 'K90': 'Korea, North', 'K91': 'Korea, South', 'K92': 'Kuwait', 'K93': 'Kyrgyzstan', 'L94': 'Laos', 'L95': 'Latvia', 'L96': 'Lebanon', 'L97': 'Lesotho', 'L98': 'Liberia', 'L99': 'Libya', 'L100': 'Liechtenstein', 'L101': 'Lithuania', 'L102': 'Luxembourg', 'M103': 'Macedonia', 'M104': 'Madagascar', 'M105': 'Malawi', 'M106': 'Malaysia', 'M107': 'Maldives', 'M108': 'Mali', 'M109': 'Malta', 'M110': 'Marshall Islands', 'M111': 'Mauritania', 'M112': 'Mauritius', 'M113': 'Mexico', 'M114': 'Micronesia', 'M115': 'Moldova', 'M116': 'Monaco', 'M117': 'Mongolia', 'M118': 'Morocco', 'M119': 'Mozambique', 'M120': 'Myanmar', 'N121': 'Namibia', 'N122': 'Nauru', 'N123': 'Nepal', 'N124': 'Netherlands', 'N125': 'New Zealand', 'N126': 'Nicaragua', 'N127': 'Niger', 'N128': 'Nigeria', 'N129': 'Norway', 'O130': 'Oman', 'P131': 'Pakistan', 'P132': 'Palau', 'P133': 'Panama', 'P134': 'Papua New Guinea', 'P135': 'Paraguay', 'P136': 'Peru', 'P137': 'Philippines', 'P138': 'Poland', 'P139': 'Portugal', 'Q140': 'Qatar', 'R141': 'Romania', 'R142': 'Russia', 'R143': 'Rwanda', 'S144': 'Saint Kitts and Nevis', 'S145': 'Saint Lucia', 'S146': 'Saint Vincent', 'S147': 'Samoa', 'S148': 'San Marino', 'S149': 'Sao Tome and Principe', 'S150': 'Saudi Arabia', 'S151': 'Senegal', 'S152': 'Serbia and Montenegro', 'S153': 'Seychelles', 'S154': 'Sierra Leone', 'S155': 'Singapore', 'S156': 'Slovakia', 'S157': 'Slovenia', 'S158': 'Solomon Islands', 'S159': 'Somalia', 'S160': 'South Africa', 'S161': 'Spain', 'S162': 'Sri Lanka', 'S163': 'Sudan', 'S164': 'Suriname', 'S165': 'Swaziland', 'S166': 'Sweden', 'S167': 'Switzerland', 'S168': 'Syria', 'T169': 'Taiwan', 'T170': 'Tajikistan', 'T171': 'Tanzania', 'T172': 'Thailand', 'T173': 'Togo', 'T174': 'Tonga', 'T175': 'Trinidad and Tobago', 'T176': 'Tunisia', 'T177': 'Turkey', 'T178': 'Turkmenistan', 'T179': 'Tuvalu', 'U180': 'Uganda', 'U181': 'Ukraine', 'U182': 'United Arab Emirates', 'U183': 'United Kingdom', 'U184': 'United States', 'U185': 'Uruguay', 'U186': 'Uzbekistan', 'V187': 'Vanuatu', 'V188': 'Vatican City', 'V189': 'Venezuela', 'V190': 'Vietnam', 'Y191': 'Yemen', 'Z192': 'Zambia', 'Z193': 'Zimbabwe'}\n"
     ]
    }
   ],
   "source": [
    "# Question 13:\n",
    "new_dict ={}\n",
    "count = 0\n",
    "for i in countries_file:\n",
    "    count+=1\n",
    "    key = i[0]+str(count)\n",
    "    val = i\n",
    "    new_dict[key]=val\n",
    "print(new_dict)"
   ]
  },
  {
   "cell_type": "code",
   "execution_count": null,
   "metadata": {},
   "outputs": [],
   "source": [
    "# Question 14:\n",
    "def get_first_ten_countries(con):\n",
    "    first_ten_countries = []\n",
    "    for i in range(10):\n",
    "        first_ten_countries.append(con[i])\n",
    "    return first_ten_countries\n",
    "\n",
    "print(get_first_ten_countries(countries_file))"
   ]
  },
  {
   "cell_type": "code",
   "execution_count": null,
   "metadata": {},
   "outputs": [],
   "source": [
    "# Question 15:\n",
    "def get_last_ten_countries(con):\n",
    "    last_ten_countries = []\n",
    "    con_len = len(con)-1\n",
    "    for i in range(con_len,con_len-10,-1):\n",
    "        last_ten_countries.append(con[i])\n",
    "    return last_ten_countries\n",
    "\n",
    "print(get_last_ten_countries(countries_file))"
   ]
  }
 ],
 "metadata": {
  "kernelspec": {
   "display_name": "Python 3",
   "language": "python",
   "name": "python3"
  },
  "language_info": {
   "codemirror_mode": {
    "name": "ipython",
    "version": 3
   },
   "file_extension": ".py",
   "mimetype": "text/x-python",
   "name": "python",
   "nbconvert_exporter": "python",
   "pygments_lexer": "ipython3",
   "version": "3.11.8"
  }
 },
 "nbformat": 4,
 "nbformat_minor": 2
}
